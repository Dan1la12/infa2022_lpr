{
 "cells": [
  {
   "cell_type": "markdown",
   "metadata": {},
   "source": [
    "# Библиотека numpy"
   ]
  },
  {
   "cell_type": "markdown",
   "metadata": {},
   "source": [
    "**NumPy** — это библиотека языка Python, добавляющая поддержку больших многомерных массивов и матриц, вместе с большой библиотекой высокоуровневых (и очень быстрых) математических функций для операций с этими массивами."
   ]
  },
  {
   "cell_type": "markdown",
   "metadata": {},
   "source": [
    "Основным объектом NumPy является однородный многомерный массив (в numpy называется numpy.ndarray). Это многомерный массив элементов (обычно чисел), одного типа.\n",
    "\n",
    "Наиболее важные атрибуты объектов ndarray:\n",
    "\n",
    "**ndarray.ndim** - число измерений (чаще их называют \"оси\") массива.\n",
    "\n",
    "**ndarray.shape** - размеры массива, его форма. Это кортеж натуральных чисел, показывающий длину массива по каждой оси. Для матрицы из n строк и m столбов, shape будет (n,m). Число элементов кортежа shape равно ndim.\n",
    "\n",
    "**ndarray.size** - количество элементов массива. Очевидно, равно произведению всех элементов атрибута shape.\n",
    "\n",
    "**ndarray.dtype** - объект, описывающий тип элементов массива. Можно определить dtype, используя стандартные типы данных Python. NumPy здесь предоставляет целый букет возможностей, как встроенных, например: bool_, character, int8, int16, int32, int64, float8, float16, float32, float64, complex64, object_, так и возможность определить собственные типы данных, в том числе и составные.\n",
    "\n",
    "**ndarray.itemsize** - размер каждого элемента массива в байтах."
   ]
  },
  {
   "cell_type": "markdown",
   "metadata": {},
   "source": [
    "# Создание массивов"
   ]
  },
  {
   "cell_type": "markdown",
   "metadata": {},
   "source": [
    "В NumPy существует много способов создать массив. Один из наиболее простых - создать массив из обычных списков или кортежей Python, используя функцию numpy.array() (запомните: array - функция, создающая объект типа ndarray):"
   ]
  },
  {
   "cell_type": "code",
   "execution_count": 1,
   "metadata": {},
   "outputs": [
    {
     "data": {
      "text/plain": [
       "array([1, 2, 3])"
      ]
     },
     "execution_count": 1,
     "metadata": {},
     "output_type": "execute_result"
    }
   ],
   "source": [
    "import numpy as np\n",
    "\n",
    "a = np.array([1, 2, 3])\n",
    "a"
   ]
  },
  {
   "cell_type": "code",
   "execution_count": 2,
   "metadata": {},
   "outputs": [
    {
     "data": {
      "text/plain": [
       "numpy.ndarray"
      ]
     },
     "execution_count": 2,
     "metadata": {},
     "output_type": "execute_result"
    }
   ],
   "source": [
    "type(a)"
   ]
  },
  {
   "cell_type": "markdown",
   "metadata": {},
   "source": [
    "Функция array() трансформирует вложенные последовательности в многомерные массивы. Тип элементов массива зависит от типа элементов исходной последовательности (но можно и переопределить его в момент создания)."
   ]
  },
  {
   "cell_type": "code",
   "execution_count": 3,
   "metadata": {},
   "outputs": [
    {
     "data": {
      "text/plain": [
       "array([[1.5, 2. , 3. ],\n",
       "       [4. , 5. , 6. ]])"
      ]
     },
     "execution_count": 3,
     "metadata": {},
     "output_type": "execute_result"
    }
   ],
   "source": [
    "b = np.array([[1.5, 2, 3], [4, 5, 6]])\n",
    "b"
   ]
  },
  {
   "cell_type": "markdown",
   "metadata": {},
   "source": [
    "Можно также переопределить тип в момент создания:"
   ]
  },
  {
   "cell_type": "code",
   "execution_count": 5,
   "metadata": {},
   "outputs": [
    {
     "data": {
      "text/plain": [
       "array([[1.5+0.j, 2. +0.j, 3. +0.j],\n",
       "       [4. +0.j, 5. +0.j, 6. +0.j]])"
      ]
     },
     "execution_count": 5,
     "metadata": {},
     "output_type": "execute_result"
    }
   ],
   "source": [
    "b = np.array([[1.5, 2, 3], [4, 5, 6]], dtype=np.complex128)\n",
    "b"
   ]
  },
  {
   "cell_type": "markdown",
   "metadata": {},
   "source": [
    "Функция array() не единственная функция для создания массивов. Обычно элементы массива вначале неизвестны, а массив, в котором они будут храниться, уже нужен. Поэтому имеется несколько функций для того, чтобы создавать массивы с каким-то исходным содержимым (по умолчанию тип создаваемого массива — float64).\n",
    "\n",
    "Функция zeros() создает массив из нулей, а функция ones() — массив из единиц. Обе функции принимают кортеж с размерами, и аргумент dtype:"
   ]
  },
  {
   "cell_type": "code",
   "execution_count": 12,
   "metadata": {},
   "outputs": [
    {
     "data": {
      "text/plain": [
       "array([[0., 0., 0., 0., 0.],\n",
       "       [0., 0., 0., 0., 0.],\n",
       "       [0., 0., 0., 0., 0.]])"
      ]
     },
     "execution_count": 12,
     "metadata": {},
     "output_type": "execute_result"
    }
   ],
   "source": [
    "a = np.zeros((3, 5))\n",
    "a"
   ]
  },
  {
   "cell_type": "code",
   "execution_count": 11,
   "metadata": {},
   "outputs": [
    {
     "data": {
      "text/plain": [
       "array([[[1., 1.],\n",
       "        [1., 1.]],\n",
       "\n",
       "       [[1., 1.],\n",
       "        [1., 1.]]])"
      ]
     },
     "execution_count": 11,
     "metadata": {},
     "output_type": "execute_result"
    }
   ],
   "source": [
    "a = np.ones((2, 2, 2))\n",
    "a"
   ]
  },
  {
   "cell_type": "markdown",
   "metadata": {},
   "source": [
    "Функция eye() создаёт единичную матрицу (двумерный массив)"
   ]
  },
  {
   "cell_type": "code",
   "execution_count": 17,
   "metadata": {},
   "outputs": [
    {
     "data": {
      "text/plain": [
       "array([[1., 0., 0., 0., 0.],\n",
       "       [0., 1., 0., 0., 0.],\n",
       "       [0., 0., 1., 0., 0.],\n",
       "       [0., 0., 0., 1., 0.],\n",
       "       [0., 0., 0., 0., 1.]])"
      ]
     },
     "execution_count": 17,
     "metadata": {},
     "output_type": "execute_result"
    }
   ],
   "source": [
    "a1 = np.eye(5)\n",
    "a1"
   ]
  },
  {
   "cell_type": "markdown",
   "metadata": {},
   "source": [
    "Функция empty() создает массив без его заполнения. Исходное содержимое случайно и зависит от состояния памяти на момент создания массива (то есть от того мусора, что в ней хранится):"
   ]
  },
  {
   "cell_type": "code",
   "execution_count": 21,
   "metadata": {},
   "outputs": [
    {
     "data": {
      "text/plain": [
       "array([[0.1, 0.2, 0.3],\n",
       "       [0.4, 0.5, 0.6],\n",
       "       [0.7, 0.8, 0.9]])"
      ]
     },
     "execution_count": 21,
     "metadata": {},
     "output_type": "execute_result"
    }
   ],
   "source": [
    "a = np.empty((3, 3))\n",
    "a"
   ]
  },
  {
   "cell_type": "markdown",
   "metadata": {},
   "source": [
    "Для создания последовательностей чисел, в NumPy имеется функция arange(), аналогичная встроенной в Python range(), только вместо списков она возвращает массивы, и принимает не только целые значения:"
   ]
  },
  {
   "cell_type": "code",
   "execution_count": 18,
   "metadata": {},
   "outputs": [
    {
     "data": {
      "text/plain": [
       "array([10, 15, 20, 25])"
      ]
     },
     "execution_count": 18,
     "metadata": {},
     "output_type": "execute_result"
    }
   ],
   "source": [
    "a = np.arange(10, 30, 5)\n",
    "a"
   ]
  },
  {
   "cell_type": "code",
   "execution_count": 19,
   "metadata": {},
   "outputs": [
    {
     "data": {
      "text/plain": [
       "array([0. , 0.1, 0.2, 0.3, 0.4, 0.5, 0.6, 0.7, 0.8, 0.9])"
      ]
     },
     "execution_count": 19,
     "metadata": {},
     "output_type": "execute_result"
    }
   ],
   "source": [
    "a = np.arange(0, 1, 0.1)\n",
    "a"
   ]
  },
  {
   "cell_type": "markdown",
   "metadata": {},
   "source": [
    "Вообще, при использовании arange() с аргументами типа float, сложно быть уверенным в том, сколько элементов будет получено (из-за ограничения точности чисел с плавающей запятой). Поэтому, в таких случаях обычно лучше использовать функцию linspace(), которая вместо шага в качестве одного из аргументов принимает число, равное количеству нужных элементов:"
   ]
  },
  {
   "cell_type": "code",
   "execution_count": 33,
   "metadata": {},
   "outputs": [
    {
     "name": "stdout",
     "output_type": "stream",
     "text": [
      "0.0 0.25 0.5 0.75 1.0 1.25 1.5 1.75 2.0 2.25 2.5 2.75 3.0 3.25 3.5 3.75 4.0\n"
     ]
    },
    {
     "data": {
      "text/plain": [
       "array([0.  , 0.25, 0.5 , 0.75, 1.  , 1.25, 1.5 , 1.75, 2.  , 2.25, 2.5 ,\n",
       "       2.75, 3.  , 3.25, 3.5 , 3.75, 4.  ])"
      ]
     },
     "execution_count": 33,
     "metadata": {},
     "output_type": "execute_result"
    }
   ],
   "source": [
    "a = np.linspace(0, 4, 17) #9 чисел от 0 до 2 включительно\n",
    "print(*a)\n",
    "a"
   ]
  },
  {
   "cell_type": "markdown",
   "metadata": {},
   "source": [
    "# Изменение формы массивов"
   ]
  },
  {
   "cell_type": "markdown",
   "metadata": {},
   "source": [
    "Предположим, у нас имеется массив, состоящий из десяти чисел: "
   ]
  },
  {
   "cell_type": "code",
   "execution_count": 51,
   "metadata": {},
   "outputs": [
    {
     "data": {
      "text/plain": [
       "array([0, 1, 2, 3, 4, 5, 6, 7, 8, 9])"
      ]
     },
     "execution_count": 51,
     "metadata": {},
     "output_type": "execute_result"
    }
   ],
   "source": [
    "a = np.arange(10)\n",
    "a"
   ]
  },
  {
   "cell_type": "markdown",
   "metadata": {},
   "source": [
    "Для изменения формы этого массива, достаточно указать свойству shape кортеж с новыми размерами, например, так: "
   ]
  },
  {
   "cell_type": "code",
   "execution_count": 52,
   "metadata": {},
   "outputs": [
    {
     "data": {
      "text/plain": [
       "array([[0, 1, 2, 3, 4],\n",
       "       [5, 6, 7, 8, 9]])"
      ]
     },
     "execution_count": 52,
     "metadata": {},
     "output_type": "execute_result"
    }
   ],
   "source": [
    "a.shape = 2, 5\n",
    "a"
   ]
  },
  {
   "cell_type": "markdown",
   "metadata": {},
   "source": [
    "В результате изменится представление массива, на которое ссылается переменная a. Если же требуется создать новое представление массива, сохранив прежнее, то следует воспользоваться методом reshape(): "
   ]
  },
  {
   "cell_type": "code",
   "execution_count": 53,
   "metadata": {},
   "outputs": [
    {
     "data": {
      "text/plain": [
       "array([0, 1, 2, 3, 4, 5, 6, 7, 8, 9])"
      ]
     },
     "execution_count": 53,
     "metadata": {},
     "output_type": "execute_result"
    }
   ],
   "source": [
    "b = a.reshape(10)\n",
    "b"
   ]
  },
  {
   "cell_type": "markdown",
   "metadata": {},
   "source": [
    "Cсылки b и a будут использовать одни и те же данные, то есть, изменение массива через b: "
   ]
  },
  {
   "cell_type": "code",
   "execution_count": 54,
   "metadata": {},
   "outputs": [],
   "source": [
    "b[0] = -1 # приведет к изменению соответствующего элемента массива a: "
   ]
  },
  {
   "cell_type": "markdown",
   "metadata": {},
   "source": [
    "У свойства shape и метода reshape() размерность должна охватывать все элементы массива. Например, вот такая команда: "
   ]
  },
  {
   "cell_type": "code",
   "execution_count": 41,
   "metadata": {
    "scrolled": false
   },
   "outputs": [
    {
     "ename": "ValueError",
     "evalue": "cannot reshape array of size 10 into shape (3,3)",
     "output_type": "error",
     "traceback": [
      "\u001b[0;31m---------------------------------------------------------------------------\u001b[0m",
      "\u001b[0;31mValueError\u001b[0m                                Traceback (most recent call last)",
      "\u001b[0;32m/tmp/ipykernel_8198/2444272619.py\u001b[0m in \u001b[0;36m<module>\u001b[0;34m\u001b[0m\n\u001b[0;32m----> 1\u001b[0;31m \u001b[0ma\u001b[0m\u001b[0;34m.\u001b[0m\u001b[0mshape\u001b[0m \u001b[0;34m=\u001b[0m \u001b[0;36m3\u001b[0m\u001b[0;34m,\u001b[0m \u001b[0;36m3\u001b[0m\u001b[0;34m\u001b[0m\u001b[0;34m\u001b[0m\u001b[0m\n\u001b[0m",
      "\u001b[0;31mValueError\u001b[0m: cannot reshape array of size 10 into shape (3,3)"
     ]
    }
   ],
   "source": [
    "a.shape = 3, 3"
   ]
  },
  {
   "cell_type": "markdown",
   "metadata": {},
   "source": [
    "приведет к ошибке, т.к. размерность 3x3 = 9 элементов, а в массиве 10 элементов. Здесь всегда должно выполняться равенство:\n",
    "\n",
    "n1 x n2 x … x nN = число элементов массива "
   ]
  },
  {
   "cell_type": "markdown",
   "metadata": {},
   "source": [
    "Но допускается делать так: "
   ]
  },
  {
   "cell_type": "code",
   "execution_count": 55,
   "metadata": {},
   "outputs": [
    {
     "data": {
      "text/plain": [
       "array([[-1,  1],\n",
       "       [ 2,  3],\n",
       "       [ 4,  5],\n",
       "       [ 6,  7],\n",
       "       [ 8,  9]])"
      ]
     },
     "execution_count": 55,
     "metadata": {},
     "output_type": "execute_result"
    }
   ],
   "source": [
    "a.shape = -1, 2\n",
    "a"
   ]
  },
  {
   "cell_type": "markdown",
   "metadata": {},
   "source": [
    "Отрицательное значение -1 означает автоматическое вычисление размерности по первой оси. По второй берется значение 2. В этом случае получим размерность 5x2.\n",
    "\n",
    "То же самое можно делать и в методе reshape(): "
   ]
  },
  {
   "cell_type": "code",
   "execution_count": 63,
   "metadata": {},
   "outputs": [
    {
     "name": "stdout",
     "output_type": "stream",
     "text": [
      "[[-1  1  2  3  4  5  6  7  8  9]]\n",
      "(1, 10)\n",
      "[[-1]\n",
      " [ 1]\n",
      " [ 2]\n",
      " [ 3]\n",
      " [ 4]\n",
      " [ 5]\n",
      " [ 6]\n",
      " [ 7]\n",
      " [ 8]\n",
      " [ 9]]\n",
      "[[-1  1  2  3  4  5  6  7  8  9]] (1, 10)\n",
      "[[-1  1  2  3  4  5  6  7  8  9]]\n"
     ]
    }
   ],
   "source": [
    "print(b)\n",
    "print(b.shape)\n",
    "print(b.reshape(-1, 1))\n",
    "print(b, b.shape)\n",
    "b.shape = 1, -1\n",
    "print(b)"
   ]
  },
  {
   "cell_type": "markdown",
   "metadata": {},
   "source": [
    "Используя отрицательный индекс, можно делать и такие преобразования: "
   ]
  },
  {
   "cell_type": "code",
   "execution_count": 64,
   "metadata": {},
   "outputs": [
    {
     "name": "stdout",
     "output_type": "stream",
     "text": [
      "[[-1  1  2  3  4  5  6  7  8  9]]\n",
      "[[-1  1]\n",
      " [ 2  3]\n",
      " [ 4  5]\n",
      " [ 6  7]\n",
      " [ 8  9]]\n"
     ]
    }
   ],
   "source": [
    "b.reshape(2, -1)\n",
    "print(b)\n",
    "b=b.reshape(-1, 2)\n",
    "print(b)"
   ]
  },
  {
   "cell_type": "markdown",
   "metadata": {},
   "source": [
    "Если нам требуется многомерный массив преобразовать в обычный одномерный, то можно воспользоваться методом ravel(), который возвращает новое представление, не меняя текущего: "
   ]
  },
  {
   "cell_type": "code",
   "execution_count": 65,
   "metadata": {},
   "outputs": [
    {
     "data": {
      "text/plain": [
       "array([-1,  1,  2,  3,  4,  5,  6,  7,  8,  9])"
      ]
     },
     "execution_count": 65,
     "metadata": {},
     "output_type": "execute_result"
    }
   ],
   "source": [
    "c = b.ravel() # с ссылается на одномерное представление массива\n",
    "c"
   ]
  },
  {
   "cell_type": "markdown",
   "metadata": {},
   "source": [
    "Если же нам нужно текущий массив преобразовать в одномерный, то это можно сделать так: "
   ]
  },
  {
   "cell_type": "code",
   "execution_count": 69,
   "metadata": {},
   "outputs": [
    {
     "data": {
      "text/plain": [
       "array([-1,  1,  2,  3,  4,  5,  6,  7,  8,  9])"
      ]
     },
     "execution_count": 69,
     "metadata": {},
     "output_type": "execute_result"
    }
   ],
   "source": [
    "b.shape = -1\n",
    "b"
   ]
  },
  {
   "cell_type": "markdown",
   "metadata": {},
   "source": [
    "Помимо свойства shape можно использовать метод resize, который выполняет подобную операцию с текущим массивом. Например: "
   ]
  },
  {
   "cell_type": "code",
   "execution_count": 67,
   "metadata": {},
   "outputs": [
    {
     "data": {
      "text/plain": [
       "array([[-1,  1,  2,  3,  4],\n",
       "       [ 5,  6,  7,  8,  9]])"
      ]
     },
     "execution_count": 67,
     "metadata": {},
     "output_type": "execute_result"
    }
   ],
   "source": [
    "a.resize(2, 5) # массив 2x5\n",
    "a"
   ]
  },
  {
   "cell_type": "markdown",
   "metadata": {},
   "source": [
    "Но, как мы уже говорили, вот такая строчка приведет к ошибке: "
   ]
  },
  {
   "cell_type": "code",
   "execution_count": 71,
   "metadata": {},
   "outputs": [
    {
     "ename": "ValueError",
     "evalue": "cannot resize an array that references or is referenced\nby another array in this way.\nUse the np.resize function or refcheck=False",
     "output_type": "error",
     "traceback": [
      "\u001b[0;31m---------------------------------------------------------------------------\u001b[0m",
      "\u001b[0;31mValueError\u001b[0m                                Traceback (most recent call last)",
      "\u001b[0;32m/tmp/ipykernel_8198/4058682236.py\u001b[0m in \u001b[0;36m<module>\u001b[0;34m\u001b[0m\n\u001b[0;32m----> 1\u001b[0;31m \u001b[0ma\u001b[0m\u001b[0;34m.\u001b[0m\u001b[0mresize\u001b[0m\u001b[0;34m(\u001b[0m\u001b[0;36m3\u001b[0m\u001b[0;34m,\u001b[0m \u001b[0;36m3\u001b[0m\u001b[0;34m)\u001b[0m  \u001b[0;31m# ошибка: 3x3 != 10\u001b[0m\u001b[0;34m\u001b[0m\u001b[0;34m\u001b[0m\u001b[0m\n\u001b[0m",
      "\u001b[0;31mValueError\u001b[0m: cannot resize an array that references or is referenced\nby another array in this way.\nUse the np.resize function or refcheck=False"
     ]
    }
   ],
   "source": [
    "a.resize(3, 3)  # ошибка: 3x3 != 10"
   ]
  },
  {
   "cell_type": "markdown",
   "metadata": {},
   "source": [
    "# Транспонирование матриц и векторов"
   ]
  },
  {
   "cell_type": "markdown",
   "metadata": {},
   "source": [
    "Очень часто в математических операциях требуется выполнять транспонирование матриц и векторов, то есть, заменять строки на столбцы. Например, если имеется матрица (двумерный массив): "
   ]
  },
  {
   "cell_type": "code",
   "execution_count": 76,
   "metadata": {},
   "outputs": [
    {
     "data": {
      "text/plain": [
       "array([[ 1,  2,  3],\n",
       "       [ 1,  4,  9],\n",
       "       [ 1,  8, 27]])"
      ]
     },
     "execution_count": 76,
     "metadata": {},
     "output_type": "execute_result"
    }
   ],
   "source": [
    "a = np.array([(1, 2, 3), (1, 4, 9), (1, 8, 27)])\n",
    "a"
   ]
  },
  {
   "cell_type": "markdown",
   "metadata": {},
   "source": [
    "то операция транспонирования может быть реализована так: "
   ]
  },
  {
   "cell_type": "code",
   "execution_count": 77,
   "metadata": {},
   "outputs": [
    {
     "data": {
      "text/plain": [
       "array([[ 1,  1,  1],\n",
       "       [ 2,  4,  8],\n",
       "       [ 3,  9, 27]])"
      ]
     },
     "execution_count": 77,
     "metadata": {},
     "output_type": "execute_result"
    }
   ],
   "source": [
    "b = a.T\n",
    "b"
   ]
  },
  {
   "cell_type": "markdown",
   "metadata": {},
   "source": [
    "Обратите внимание, мы здесь создаем лишь новое представление тех же самых данных массива a. И изменение элементов в массиве b: "
   ]
  },
  {
   "cell_type": "code",
   "execution_count": 82,
   "metadata": {},
   "outputs": [],
   "source": [
    "b[0, 1] = 10"
   ]
  },
  {
   "cell_type": "markdown",
   "metadata": {},
   "source": [
    "приведет к соответствующему изменению значения элемента и массива a. Это следует помнить, используя операцию транспонирования.\n",
    "\n",
    "Транспонирование векторов работает несколько иначе. Предположим, имеется одномерный массив: "
   ]
  },
  {
   "cell_type": "code",
   "execution_count": 83,
   "metadata": {},
   "outputs": [
    {
     "data": {
      "text/plain": [
       "array([1, 2, 3, 4, 5, 6, 7, 8, 9])"
      ]
     },
     "execution_count": 83,
     "metadata": {},
     "output_type": "execute_result"
    }
   ],
   "source": [
    "x = np.arange(1, 10)\n",
    "x"
   ]
  },
  {
   "cell_type": "markdown",
   "metadata": {},
   "source": [
    "и мы выполняем операцию транспонирования: "
   ]
  },
  {
   "cell_type": "code",
   "execution_count": 79,
   "metadata": {},
   "outputs": [
    {
     "data": {
      "text/plain": [
       "array([1, 2, 3, 4, 5, 6, 7, 8, 9])"
      ]
     },
     "execution_count": 79,
     "metadata": {},
     "output_type": "execute_result"
    }
   ],
   "source": [
    "x.T\n",
    "x"
   ]
  },
  {
   "cell_type": "markdown",
   "metadata": {},
   "source": [
    "В результате ничего не изменилось: вектор как был строкой, так строкой и остался. Почему? Дело в том, что массив x имеет только одну размерность, поэтому здесь нет понятия строк и столбцов. Соответственно, операция транспонирования ни к чему не приводит. Чтобы получить ожидаемый эффект, нужно добавить к массиву еще одну ось, например, так: "
   ]
  },
  {
   "cell_type": "code",
   "execution_count": 85,
   "metadata": {},
   "outputs": [
    {
     "data": {
      "text/plain": [
       "array([[1, 2, 3, 4, 5, 6, 7, 8, 9]])"
      ]
     },
     "execution_count": 85,
     "metadata": {},
     "output_type": "execute_result"
    }
   ],
   "source": [
    "x.shape = 1, -1\n",
    "x"
   ]
  },
  {
   "cell_type": "markdown",
   "metadata": {},
   "source": [
    "И теперь, при транспонировании получим вектор-столбец: "
   ]
  },
  {
   "cell_type": "code",
   "execution_count": 86,
   "metadata": {},
   "outputs": [
    {
     "name": "stdout",
     "output_type": "stream",
     "text": [
      "[[1]\n",
      " [2]\n",
      " [3]\n",
      " [4]\n",
      " [5]\n",
      " [6]\n",
      " [7]\n",
      " [8]\n",
      " [9]]\n",
      "[[1 2 3 4 5 6 7 8 9]]\n"
     ]
    }
   ],
   "source": [
    "print(x.T)\n",
    "print(x)"
   ]
  },
  {
   "cell_type": "markdown",
   "metadata": {},
   "source": [
    "# Операции с индексами"
   ]
  },
  {
   "cell_type": "markdown",
   "metadata": {},
   "source": [
    "Оперативная память компьютера линейна, и поэтому даже многомерные массивы, на самом деле являются некоторыми линейными структурами, над которыми существуют система индексов, говорящих как именно читать этот линейный блок. Проведение операций над индексами в большистве случаев эффективно и поэтому операции смены размерности массива или транспонирования выполняются быстро"
   ]
  },
  {
   "cell_type": "code",
   "execution_count": 87,
   "metadata": {},
   "outputs": [
    {
     "name": "stdout",
     "output_type": "stream",
     "text": [
      "[[1 3]\n",
      " [2 4]]\n"
     ]
    }
   ],
   "source": [
    "import numpy as np\n",
    "\n",
    "a = np.asarray([[1,2], [3,4]])\n",
    "b = a.T # Транспонированый массив\n",
    "print(b)"
   ]
  },
  {
   "cell_type": "code",
   "execution_count": 3,
   "metadata": {},
   "outputs": [
    {
     "name": "stdout",
     "output_type": "stream",
     "text": [
      "[[10  3]\n",
      " [ 2  4]]\n"
     ]
    }
   ],
   "source": [
    "b[0,0] = 10\n",
    "print(b)"
   ]
  },
  {
   "cell_type": "code",
   "execution_count": 88,
   "metadata": {},
   "outputs": [
    {
     "name": "stdout",
     "output_type": "stream",
     "text": [
      "[[1 2]\n",
      " [3 4]]\n"
     ]
    }
   ],
   "source": [
    "print(a)"
   ]
  },
  {
   "cell_type": "code",
   "execution_count": 89,
   "metadata": {},
   "outputs": [
    {
     "data": {
      "text/plain": [
       "array([[11,  3],\n",
       "       [ 2,  4]])"
      ]
     },
     "execution_count": 89,
     "metadata": {},
     "output_type": "execute_result"
    }
   ],
   "source": [
    "b[0][0] = 11\n",
    "b"
   ]
  },
  {
   "cell_type": "markdown",
   "metadata": {},
   "source": [
    "Как мы видим при изменени переменной b изменилась переменная a. Это произошло потому, что обе эти переменные использубют один и тот же кусок памяти, но по разному."
   ]
  },
  {
   "cell_type": "markdown",
   "metadata": {},
   "source": [
    "# Добавление и удаление осей"
   ]
  },
  {
   "cell_type": "markdown",
   "metadata": {},
   "source": [
    "Часто при работе с массивами NumPy требуется добавлять новые оси измерений и удалять существующие. Есть множество способов выполнять эти операции, но мы рассмотрим два наиболее распространенных с помощью функций:\n",
    "\n",
    "    np.expand_dims(a, axis) – добавление новой оси;\n",
    "    np.squeeze(a[, axis]) – удаление оси (без удаления элементов). \n",
    "\n",
    "Давайте предположим, что у нас имеется некий многомерный массив: "
   ]
  },
  {
   "cell_type": "code",
   "execution_count": 92,
   "metadata": {},
   "outputs": [
    {
     "data": {
      "text/plain": [
       "array([[[ 0,  1],\n",
       "        [ 2,  3]],\n",
       "\n",
       "       [[ 4,  5],\n",
       "        [ 6,  7]],\n",
       "\n",
       "       [[ 8,  9],\n",
       "        [10, 11]],\n",
       "\n",
       "       [[12, 13],\n",
       "        [14, 15]],\n",
       "\n",
       "       [[16, 17],\n",
       "        [18, 19]],\n",
       "\n",
       "       [[20, 21],\n",
       "        [22, 23]],\n",
       "\n",
       "       [[24, 25],\n",
       "        [26, 27]],\n",
       "\n",
       "       [[28, 29],\n",
       "        [30, 31]]])"
      ]
     },
     "execution_count": 92,
     "metadata": {},
     "output_type": "execute_result"
    }
   ],
   "source": [
    "x_test = np.arange(32).reshape(8, 2, 2) # массив 8x2x2\n",
    "x_test"
   ]
  },
  {
   "cell_type": "markdown",
   "metadata": {},
   "source": [
    "И нам потребовалось добавить еще одно измерение (ось), причем, в самое начало, то есть, ось axis0. Сейчас на этой оси 8 элементов – матриц 2x2, но мы хотим сделать четырехмерный массив, сохранив остальные три оси и их данные без изменений. Как раз это достаточно просто сделать с помощью функции expand_dims, следующим образом: "
   ]
  },
  {
   "cell_type": "code",
   "execution_count": 94,
   "metadata": {},
   "outputs": [
    {
     "data": {
      "text/plain": [
       "array([[[[ 0,  1],\n",
       "         [ 2,  3]],\n",
       "\n",
       "        [[ 4,  5],\n",
       "         [ 6,  7]],\n",
       "\n",
       "        [[ 8,  9],\n",
       "         [10, 11]],\n",
       "\n",
       "        [[12, 13],\n",
       "         [14, 15]],\n",
       "\n",
       "        [[16, 17],\n",
       "         [18, 19]],\n",
       "\n",
       "        [[20, 21],\n",
       "         [22, 23]],\n",
       "\n",
       "        [[24, 25],\n",
       "         [26, 27]],\n",
       "\n",
       "        [[28, 29],\n",
       "         [30, 31]]]])"
      ]
     },
     "execution_count": 94,
     "metadata": {},
     "output_type": "execute_result"
    }
   ],
   "source": [
    "x_test4 = np.expand_dims(x_test, axis=0)\n",
    "x_test4"
   ]
  },
  {
   "cell_type": "markdown",
   "metadata": {},
   "source": [
    "Обращаясь к свойству shape: "
   ]
  },
  {
   "cell_type": "markdown",
   "metadata": {},
   "source": [
    "x_test4.shape"
   ]
  },
  {
   "cell_type": "markdown",
   "metadata": {},
   "source": [
    "Видим, что массив стал четырехмерным и первая добавленная ось axis0 содержит один элемент – трехмерный массив 8x2x2. При необходимости, мы всегда можем добавить новый элемент на эту ось: "
   ]
  },
  {
   "cell_type": "code",
   "execution_count": 95,
   "metadata": {},
   "outputs": [
    {
     "data": {
      "text/plain": [
       "array([[[[ 0,  1],\n",
       "         [ 2,  3]],\n",
       "\n",
       "        [[ 4,  5],\n",
       "         [ 6,  7]],\n",
       "\n",
       "        [[ 8,  9],\n",
       "         [10, 11]],\n",
       "\n",
       "        [[12, 13],\n",
       "         [14, 15]],\n",
       "\n",
       "        [[16, 17],\n",
       "         [18, 19]],\n",
       "\n",
       "        [[20, 21],\n",
       "         [22, 23]],\n",
       "\n",
       "        [[24, 25],\n",
       "         [26, 27]],\n",
       "\n",
       "        [[28, 29],\n",
       "         [30, 31]]],\n",
       "\n",
       "\n",
       "       [[[ 0,  1],\n",
       "         [ 2,  3]],\n",
       "\n",
       "        [[ 4,  5],\n",
       "         [ 6,  7]],\n",
       "\n",
       "        [[ 8,  9],\n",
       "         [10, 11]],\n",
       "\n",
       "        [[12, 13],\n",
       "         [14, 15]],\n",
       "\n",
       "        [[16, 17],\n",
       "         [18, 19]],\n",
       "\n",
       "        [[20, 21],\n",
       "         [22, 23]],\n",
       "\n",
       "        [[24, 25],\n",
       "         [26, 27]],\n",
       "\n",
       "        [[28, 29],\n",
       "         [30, 31]]]])"
      ]
     },
     "execution_count": 95,
     "metadata": {},
     "output_type": "execute_result"
    }
   ],
   "source": [
    "a = np.append(x_test4, x_test4, axis=0) # размерность (2, 8, 2, 2)\n",
    "a"
   ]
  },
  {
   "cell_type": "markdown",
   "metadata": {},
   "source": [
    "или удалить ненужные элементы: "
   ]
  },
  {
   "cell_type": "code",
   "execution_count": 96,
   "metadata": {},
   "outputs": [
    {
     "data": {
      "text/plain": [
       "array([[[[ 0,  1],\n",
       "         [ 2,  3]],\n",
       "\n",
       "        [[ 4,  5],\n",
       "         [ 6,  7]],\n",
       "\n",
       "        [[ 8,  9],\n",
       "         [10, 11]],\n",
       "\n",
       "        [[12, 13],\n",
       "         [14, 15]],\n",
       "\n",
       "        [[16, 17],\n",
       "         [18, 19]],\n",
       "\n",
       "        [[20, 21],\n",
       "         [22, 23]],\n",
       "\n",
       "        [[24, 25],\n",
       "         [26, 27]],\n",
       "\n",
       "        [[28, 29],\n",
       "         [30, 31]]]])"
      ]
     },
     "execution_count": 96,
     "metadata": {},
     "output_type": "execute_result"
    }
   ],
   "source": [
    "b = np.delete(a, 0, axis=0) # размерность (1, 8, 2, 2)\n",
    "b"
   ]
  },
  {
   "cell_type": "markdown",
   "metadata": {},
   "source": [
    "Здесь второй параметр 0 – индекс удаляемого элемента на оси axis0.\n",
    "\n",
    "Если нам нужно добавить последнюю ось в массиве, то для этого можно записать такую команду: "
   ]
  },
  {
   "cell_type": "code",
   "execution_count": 97,
   "metadata": {},
   "outputs": [],
   "source": [
    "b = np.expand_dims(x_test4, axis=-1) # размерность (1, 8, 2, 2, 1)"
   ]
  },
  {
   "cell_type": "markdown",
   "metadata": {},
   "source": [
    "Отрицательный индекс -1 – это следующая с конца ось. Если указать индекс -2, то добавится предпоследняя ось и так далее. Отрицательные индексы очень удобно использовать при работе с массивами произвольных размерностей.\n",
    "\n",
    "Следующая функция squeeze позволяет удалить все оси с одним элементом. Например, строчка: "
   ]
  },
  {
   "cell_type": "code",
   "execution_count": 98,
   "metadata": {},
   "outputs": [
    {
     "data": {
      "text/plain": [
       "array([[[ 0,  1],\n",
       "        [ 2,  3]],\n",
       "\n",
       "       [[ 4,  5],\n",
       "        [ 6,  7]],\n",
       "\n",
       "       [[ 8,  9],\n",
       "        [10, 11]],\n",
       "\n",
       "       [[12, 13],\n",
       "        [14, 15]],\n",
       "\n",
       "       [[16, 17],\n",
       "        [18, 19]],\n",
       "\n",
       "       [[20, 21],\n",
       "        [22, 23]],\n",
       "\n",
       "       [[24, 25],\n",
       "        [26, 27]],\n",
       "\n",
       "       [[28, 29],\n",
       "        [30, 31]]])"
      ]
     },
     "execution_count": 98,
     "metadata": {},
     "output_type": "execute_result"
    }
   ],
   "source": [
    "c = np.squeeze(b) # размерность (8, 2, 2)\n",
    "c"
   ]
  },
  {
   "cell_type": "markdown",
   "metadata": {},
   "source": [
    "превращает массив размерностью (1, 8, 2, 2) в массив размерностью (8, 2, 2). При необходимости, дополнительно мы можем самостоятельно указать оси, которые следует удалять, например, так: "
   ]
  },
  {
   "cell_type": "code",
   "execution_count": null,
   "metadata": {},
   "outputs": [],
   "source": [
    "c = np.squeeze(b, axis=0) # удалит только ось axis0, не затронув другие"
   ]
  },
  {
   "cell_type": "markdown",
   "metadata": {},
   "source": [
    "Но, если указать ось с числом элементов больше 1, то возникнет ошибка: "
   ]
  },
  {
   "cell_type": "code",
   "execution_count": null,
   "metadata": {},
   "outputs": [],
   "source": [
    "c = np.squeeze(b, axis=1) # ошибка, на оси axis1 8 элементов"
   ]
  },
  {
   "cell_type": "markdown",
   "metadata": {},
   "source": [
    "В NumPy добавлять новые оси иногда удобнее с помощью специального объекта np.newaxis. Например, пусть у нас есть одномерный массив: "
   ]
  },
  {
   "cell_type": "code",
   "execution_count": 99,
   "metadata": {},
   "outputs": [
    {
     "data": {
      "text/plain": [
       "array([1, 2, 3, 4, 5, 6, 7, 8, 9])"
      ]
     },
     "execution_count": 99,
     "metadata": {},
     "output_type": "execute_result"
    }
   ],
   "source": [
    "a = np.arange(1, 10)\n",
    "a"
   ]
  },
  {
   "cell_type": "markdown",
   "metadata": {},
   "source": [
    "У него одна ось – одно измерение. Добавим еще одну ось, допустим, в начало. С помощью объекта np.newaxis это можно сделать так: "
   ]
  },
  {
   "cell_type": "code",
   "execution_count": 100,
   "metadata": {},
   "outputs": [
    {
     "name": "stdout",
     "output_type": "stream",
     "text": [
      "[[1 2 3 4 5 6 7 8 9]]\n"
     ]
    },
    {
     "data": {
      "text/plain": [
       "(1, 9)"
      ]
     },
     "execution_count": 100,
     "metadata": {},
     "output_type": "execute_result"
    }
   ],
   "source": [
    "b = a[np.newaxis, :] # добавление оси axis0\n",
    "print(b)\n",
    "b.shape # (1, 9)"
   ]
  },
  {
   "cell_type": "markdown",
   "metadata": {},
   "source": [
    "Или, можно прописать сразу две оси: "
   ]
  },
  {
   "cell_type": "code",
   "execution_count": 101,
   "metadata": {},
   "outputs": [
    {
     "name": "stdout",
     "output_type": "stream",
     "text": [
      "[[[1]\n",
      "  [2]\n",
      "  [3]\n",
      "  [4]\n",
      "  [5]\n",
      "  [6]\n",
      "  [7]\n",
      "  [8]\n",
      "  [9]]]\n"
     ]
    },
    {
     "data": {
      "text/plain": [
       "(1, 9, 1)"
      ]
     },
     "execution_count": 101,
     "metadata": {},
     "output_type": "execute_result"
    }
   ],
   "source": [
    "c = a[np.newaxis, :, np.newaxis]\n",
    "print(c)\n",
    "c.shape # (1, 9, 1)"
   ]
  },
  {
   "cell_type": "markdown",
   "metadata": {},
   "source": [
    "# Базовые математические операции над массивами"
   ]
  },
  {
   "cell_type": "markdown",
   "metadata": {},
   "source": [
    "Предположим, имеется обычный список и массив, созданный на его основе:"
   ]
  },
  {
   "cell_type": "code",
   "execution_count": 102,
   "metadata": {},
   "outputs": [],
   "source": [
    "lst = [1, 2, 3]\n",
    "a = np.array([1, 2, 3])"
   ]
  },
  {
   "cell_type": "markdown",
   "metadata": {},
   "source": [
    "Сейчас вы увидите принципиальную разницу между двумя этими объектами. Умножим их на число 2: "
   ]
  },
  {
   "cell_type": "code",
   "execution_count": 110,
   "metadata": {},
   "outputs": [
    {
     "data": {
      "text/plain": [
       "array([2, 4, 6])"
      ]
     },
     "execution_count": 110,
     "metadata": {},
     "output_type": "execute_result"
    }
   ],
   "source": [
    "lst*2\n",
    "a*2"
   ]
  },
  {
   "cell_type": "markdown",
   "metadata": {},
   "source": [
    "Видите, при умножении списка языка Python, он дублируется дважды, а при умножении на NumPy массив – каждый его элемент умножается математически на число 2. Если бы мы захотели то же самое реализовать непосредственно на Python, оперируя списками, то пришлось бы делать что-то вроде:"
   ]
  },
  {
   "cell_type": "code",
   "execution_count": 104,
   "metadata": {},
   "outputs": [
    {
     "data": {
      "text/plain": [
       "[2, 4, 6]"
      ]
     },
     "execution_count": 104,
     "metadata": {},
     "output_type": "execute_result"
    }
   ],
   "source": [
    "[x*2 for x in lst]"
   ]
  },
  {
   "cell_type": "markdown",
   "metadata": {},
   "source": [
    "Но выполнялась бы такая конструкция дольше, чем в случае с массивом NumPy. Именно благодаря удобству и скорости библиотека NumPy и приобрела свою популярность."
   ]
  },
  {
   "cell_type": "markdown",
   "metadata": {},
   "source": [
    "Пусть у нас задан тот же одномерный массив: "
   ]
  },
  {
   "cell_type": "code",
   "execution_count": 105,
   "metadata": {},
   "outputs": [],
   "source": [
    "a = np.array([1, 2, 3])"
   ]
  },
  {
   "cell_type": "markdown",
   "metadata": {},
   "source": [
    "Все указанные в таблице операции выполняются следующим образом: "
   ]
  },
  {
   "cell_type": "code",
   "execution_count": 106,
   "metadata": {},
   "outputs": [
    {
     "name": "stdout",
     "output_type": "stream",
     "text": [
      "[-1 -2 -3]\n",
      "[3 4 5]\n",
      "[3 4 5]\n",
      "[-2 -1  0]\n",
      "[ 5 10 15]\n",
      "[0.2 0.4 0.6]\n",
      "[0 1 1]\n",
      "[ 1  8 27]\n",
      "[1 0 1]\n"
     ]
    }
   ],
   "source": [
    "print(-a) # унарный минус\n",
    "print(a + 2) # сложение с числом\n",
    "print(2 + a)  # так тоже можно записывать\n",
    "print(a - 3) # вычитание с числом\n",
    "print(a * 5) # умножение на число\n",
    "print(a / 5)  # деление на число\n",
    "print(a // 2)  # целочисленное деление\n",
    "print(a ** 3)  # возведение в степень 3\n",
    "print(a % 2)  # вычисление по модулю 2"
   ]
  },
  {
   "cell_type": "markdown",
   "metadata": {},
   "source": [
    "Приоритеты этих операций такие же, что и при обычных математических вычислениях. А на выходе мы получаем новый массив с соответствующими значениями.\n",
    "\n",
    "Давайте теперь добавим еще один массив: "
   ]
  },
  {
   "cell_type": "code",
   "execution_count": 111,
   "metadata": {},
   "outputs": [],
   "source": [
    "b = np.array([3, 4, 5])"
   ]
  },
  {
   "cell_type": "markdown",
   "metadata": {},
   "source": [
    "и посмотрим на эти же операции, но с участием двух массивов:"
   ]
  },
  {
   "cell_type": "code",
   "execution_count": 112,
   "metadata": {},
   "outputs": [
    {
     "name": "stdout",
     "output_type": "stream",
     "text": [
      "[-2 -2 -2]\n",
      "[4 6 8]\n",
      "[ 3  8 15]\n",
      "[3.         2.         1.66666667]\n",
      "[3 2 1]\n",
      "[  3  16 125]\n",
      "[0 0 2]\n"
     ]
    }
   ],
   "source": [
    "print(a - b)\n",
    "print(b + a)\n",
    "print(a * b)\n",
    "print(b / a)\n",
    "print(b // a)\n",
    "print(b ** a)\n",
    "print(b % a)"
   ]
  },
  {
   "cell_type": "markdown",
   "metadata": {},
   "source": [
    "Везде мы видим поэлементные операции. Соответственно, чтобы они выполнялись, массивы должны быть согласованы по длине. Например, если взять массив: "
   ]
  },
  {
   "cell_type": "code",
   "execution_count": null,
   "metadata": {},
   "outputs": [],
   "source": [
    "b = np.array([3, 4, 5, 6])"
   ]
  },
  {
   "cell_type": "markdown",
   "metadata": {},
   "source": [
    "и выполнить операцию: "
   ]
  },
  {
   "cell_type": "code",
   "execution_count": null,
   "metadata": {},
   "outputs": [],
   "source": [
    "a + b  # ошибка: длины массивов не совпадают"
   ]
  },
  {
   "cell_type": "markdown",
   "metadata": {},
   "source": [
    "то возникнет ошибка из-за несовпадения длин массивов. Но вот такая операция с двумерным массивом b сработает: "
   ]
  },
  {
   "cell_type": "code",
   "execution_count": 113,
   "metadata": {},
   "outputs": [
    {
     "data": {
      "text/plain": [
       "array([[2, 4, 6],\n",
       "       [5, 7, 9]])"
      ]
     },
     "execution_count": 113,
     "metadata": {},
     "output_type": "execute_result"
    }
   ],
   "source": [
    "b = np.arange(1, 7)\n",
    "b.resize(2, 3)\n",
    "a + b"
   ]
  },
  {
   "cell_type": "markdown",
   "metadata": {},
   "source": [
    "В этом случае массив a будет применен к каждой строке массива b. Такое поведение получило название транслирование массивов."
   ]
  },
  {
   "cell_type": "markdown",
   "metadata": {},
   "source": [
    "Все рассмотренные операции можно распространить и на многомерные массивы, главное, чтобы они были согласованы по размерам. Я приведу два небольших примера, так как думаю, общий принцип здесь понятен. Пусть у нас трехмерный и двумерный массивы: "
   ]
  },
  {
   "cell_type": "code",
   "execution_count": 114,
   "metadata": {},
   "outputs": [],
   "source": [
    "a = np.arange(1, 19)\n",
    "a.resize(3, 3, 2)\n",
    "b = np.ones((3, 2))"
   ]
  },
  {
   "cell_type": "markdown",
   "metadata": {},
   "source": [
    "С ними можно выполнять такие операции:"
   ]
  },
  {
   "cell_type": "code",
   "execution_count": 115,
   "metadata": {},
   "outputs": [
    {
     "name": "stdout",
     "output_type": "stream",
     "text": [
      "[[[ 0.  1.]\n",
      "  [ 2.  3.]\n",
      "  [ 4.  5.]]\n",
      "\n",
      " [[ 6.  7.]\n",
      "  [ 8.  9.]\n",
      "  [10. 11.]]\n",
      "\n",
      " [[12. 13.]\n",
      "  [14. 15.]\n",
      "  [16. 17.]]]\n",
      "[[[ 10  20]\n",
      "  [ 30  40]\n",
      "  [ 50  60]]\n",
      "\n",
      " [[ 70  80]\n",
      "  [ 90 100]\n",
      "  [110 120]]\n",
      "\n",
      " [[130 140]\n",
      "  [150 160]\n",
      "  [170 180]]]\n",
      "[[[ 1.  2.]\n",
      "  [ 3.  4.]\n",
      "  [ 5.  6.]]\n",
      "\n",
      " [[ 7.  8.]\n",
      "  [ 9. 10.]\n",
      "  [11. 12.]]\n",
      "\n",
      " [[13. 14.]\n",
      "  [15. 16.]\n",
      "  [17. 18.]]]\n"
     ]
    }
   ],
   "source": [
    "print(a - b)\n",
    "print(a * 10)\n",
    "print(a // b)"
   ]
  },
  {
   "cell_type": "markdown",
   "metadata": {},
   "source": [
    "Если нам нужно произвести какие-либо математические операции с массивом и изменения сохранить в нем же, то удобно использовать сокращенные записи."
   ]
  },
  {
   "cell_type": "code",
   "execution_count": 116,
   "metadata": {},
   "outputs": [],
   "source": [
    "a = np.array([1, 2, 6, 8])\n",
    "a += 5\n",
    "b = np.ones(4)\n",
    "b *= a"
   ]
  },
  {
   "cell_type": "markdown",
   "metadata": {},
   "source": [
    "# Элементы линейной алгебры"
   ]
  },
  {
   "cell_type": "markdown",
   "metadata": {},
   "source": [
    "**Упражнение 1**\n",
    "\n",
    "Создайте два вектора.\n",
    "\n",
    "Найдите в документации numpy функции **dot** и **inner** вычислите скалярное произведение векторов."
   ]
  },
  {
   "cell_type": "code",
   "execution_count": 121,
   "metadata": {},
   "outputs": [
    {
     "name": "stdout",
     "output_type": "stream",
     "text": [
      "32\n"
     ]
    }
   ],
   "source": [
    "import numpy as np\n",
    "a = np.array([1, 2, 3])\n",
    "b = np.array([4, 5, 6])\n",
    "print(np.inner(a, b))"
   ]
  },
  {
   "cell_type": "markdown",
   "metadata": {},
   "source": [
    "**Упражнение 2**\n",
    "\n",
    "Создайте две матрицы (двумерных массива).\n",
    "\n",
    "Найдите в документации numpy функции **dot** и **matmul** и с помощью этих функций вычислите произведение двух матриц.\n",
    "\n",
    "Создайте диагональную единичную матрицу и выполните умножение одной из предыдущих матриц на единичную матрицу."
   ]
  },
  {
   "cell_type": "code",
   "execution_count": 132,
   "metadata": {},
   "outputs": [
    {
     "name": "stdout",
     "output_type": "stream",
     "text": [
      "[[16 19]\n",
      " [36 43]]\n",
      "[[1. 2.]\n",
      " [3. 4.]]\n"
     ]
    }
   ],
   "source": [
    "a = np.array([[1, 2], [3, 4]])\n",
    "b = np.arange(4, 8, 1)\n",
    "b.shape = 2, 2\n",
    "c = np.matmul(a, b)\n",
    "print(c)\n",
    "e = np.eye(2)\n",
    "print(np.matmul(a, e))"
   ]
  },
  {
   "cell_type": "markdown",
   "metadata": {},
   "source": [
    "Вычисление нормы вектора:"
   ]
  },
  {
   "cell_type": "code",
   "execution_count": 133,
   "metadata": {},
   "outputs": [
    {
     "data": {
      "text/plain": [
       "10.14889156509222"
      ]
     },
     "execution_count": 133,
     "metadata": {},
     "output_type": "execute_result"
    }
   ],
   "source": [
    "b = np.array([0, 2, 3, 4, 5, 7])\n",
    "d = np.linalg.norm(b)\n",
    "d"
   ]
  },
  {
   "cell_type": "markdown",
   "metadata": {},
   "source": [
    "**Упражнение 3**\n",
    "\n",
    "Вычислите норму матрицы с помощью функции **np.linalg.norm**."
   ]
  },
  {
   "cell_type": "code",
   "execution_count": 135,
   "metadata": {},
   "outputs": [
    {
     "name": "stdout",
     "output_type": "stream",
     "text": [
      "10.14889156509222\n"
     ]
    }
   ],
   "source": [
    "b = b = np.array([[0, 2, 3], [4, 5, 7]])\n",
    "a = np.linalg.norm(b)\n",
    "print(a)"
   ]
  },
  {
   "cell_type": "markdown",
   "metadata": {},
   "source": [
    "**Упражнение 4**\n",
    "\n",
    "Вычислите косинус угла между векторами: $\\normalsize cos\\alpha = \\frac{a*b}{\\|a\\|*\\|b\\|}$"
   ]
  },
  {
   "cell_type": "code",
   "execution_count": 148,
   "metadata": {},
   "outputs": [
    {
     "name": "stdout",
     "output_type": "stream",
     "text": [
      "0.9746318461970762\n"
     ]
    }
   ],
   "source": [
    "import numpy as np\n",
    "a = np.array([1, 2, 3])\n",
    "b = np.array([4, 5, 6])\n",
    "c = np.inner(a, b)\n",
    "abs_a = np.linalg.norm(a)\n",
    "abs_b = np.linalg.norm(b)\n",
    "print(c/(abs_a*abs_b))"
   ]
  },
  {
   "cell_type": "markdown",
   "metadata": {},
   "source": [
    "____________________________________________________________________________________________________________________\n",
    "Вычисление определителя матрицы:"
   ]
  },
  {
   "cell_type": "code",
   "execution_count": 137,
   "metadata": {},
   "outputs": [
    {
     "name": "stdout",
     "output_type": "stream",
     "text": [
      "[[-4 -1  2]\n",
      " [10  4 -1]\n",
      " [ 8  3  1]]\n",
      "-14.000000000000009\n"
     ]
    }
   ],
   "source": [
    "A = np.matrix('-4 -1 2; 10 4 -1; 8 3 1') # еще один способ для создания матрицы\n",
    "print(A)\n",
    "d = np.linalg.det(A)\n",
    "print(d)"
   ]
  },
  {
   "cell_type": "markdown",
   "metadata": {},
   "source": [
    "**Упражнение 5**\n",
    "\n",
    "Транспонируйте матрицу, вычислите определитель. Отличается ли определитель транспонированной матрицы от определителя исходной матрицы?\n",
    "\n",
    "Замените одну из строк матрицы на строку из нулей, вычислите определитель матрицы.\n",
    "\n",
    "Создайте матрицу, у которой две строки переставлены местами по сравнению с исходной матрицей, вычислите определитель новой матрицы.\n",
    "\n",
    "Создайте матрицу с двумя одинаковыми строками, вычислите ее определитель.\n",
    "\n",
    "Умножьте одну из строк исходной матрицы на число, вычислите определитель.\n",
    "\n",
    "Прибавьте к элементам одной строки прибавить элементы другой строки, умноженные на одно и тоже число, вычтслите определитель."
   ]
  },
  {
   "cell_type": "code",
   "execution_count": 142,
   "metadata": {},
   "outputs": [
    {
     "name": "stdout",
     "output_type": "stream",
     "text": [
      "39.000000000000014\n",
      "0.0\n",
      "0.0\n",
      "78.0\n"
     ]
    }
   ],
   "source": [
    "a = np.array([[1, 2, 3], [9, 8, 0], [5, 7, 3]])\n",
    "b = a.T\n",
    "print(np.linalg.det(b))\n",
    "a[0] = [0, 0, 0]\n",
    "print(np.linalg.det(a))\n",
    "a = np.array([[1, 2, 3], [9, 8, 0], [5, 7, 3]])\n",
    "a[0] = a[1]\n",
    "print(np.linalg.det(a))\n",
    "a = np.array([[1, 2, 3], [9, 8, 0], [5, 7, 3]])\n",
    "a[0] *= 2\n",
    "print(np.linalg.det(a))"
   ]
  },
  {
   "cell_type": "markdown",
   "metadata": {},
   "source": [
    "# Построение графиков в matplotlib"
   ]
  },
  {
   "cell_type": "markdown",
   "metadata": {},
   "source": [
    "Построение графика по точкам:"
   ]
  },
  {
   "cell_type": "code",
   "execution_count": 143,
   "metadata": {},
   "outputs": [
    {
     "data": {
      "image/png": "[encoded data removed]",
      "text/plain": [
       "<Figure size 432x288 with 1 Axes>"
      ]
     },
     "metadata": {
      "needs_background": "light"
     },
     "output_type": "display_data"
    }
   ],
   "source": [
    "import matplotlib.pyplot as plt\n",
    "plt.plot([1, 2, 3, 4, 5], [1, 2, 3, 4, 5])\n",
    "plt.show()"
   ]
  },
  {
   "cell_type": "markdown",
   "metadata": {},
   "source": [
    "Для начала построим линейную зависимость, дадим нашему графику название, подпишем оси и отобразим сетку:"
   ]
  },
  {
   "cell_type": "code",
   "execution_count": 144,
   "metadata": {},
   "outputs": [
    {
     "data": {
      "text/plain": [
       "[<matplotlib.lines.Line2D at 0x7f5abdc79370>]"
      ]
     },
     "execution_count": 144,
     "metadata": {},
     "output_type": "execute_result"
    },
    {
     "data": {
      "image/png": "[encoded data removed]",
      "text/plain": [
       "<Figure size 432x288 with 1 Axes>"
      ]
     },
     "metadata": {
      "needs_background": "light"
     },
     "output_type": "display_data"
    }
   ],
   "source": [
    "import numpy as np\n",
    "# Независимая (x) и зависимая (y) переменные\n",
    "x = np.linspace(0, 10, 50)\n",
    "y = x\n",
    "\n",
    "# Построение графика\n",
    "plt.title(\"Линейная зависимость y = x\") # заголовок\n",
    "plt.xlabel(\"x\") # ось абсцисс\n",
    "plt.ylabel(\"y\") # ось ординат\n",
    "plt.grid()      # включение отображение сетки\n",
    "plt.plot(x, y)  # построение графика"
   ]
  },
  {
   "cell_type": "markdown",
   "metadata": {},
   "source": [
    "Изменим тип линии и ее цвет, для этого в функцию plot(), в качестве третьего параметра передадим строку, сформированную определенным образом, в нашем случае это “r–”, где “r” означает красный цвет, а “–” – тип линии – пунктирная линия."
   ]
  },
  {
   "cell_type": "code",
   "execution_count": 149,
   "metadata": {},
   "outputs": [
    {
     "data": {
      "text/plain": [
       "[<matplotlib.lines.Line2D at 0x7f5abdbea460>]"
      ]
     },
     "execution_count": 149,
     "metadata": {},
     "output_type": "execute_result"
    },
    {
     "data": {
      "image/png": "[encoded data removed]",
      "text/plain": [
       "<Figure size 432x288 with 1 Axes>"
      ]
     },
     "metadata": {
      "needs_background": "light"
     },
     "output_type": "display_data"
    }
   ],
   "source": [
    "# Построение графика\n",
    "plt.title(\"Линейная зависимость y = x\") # заголовок\n",
    "plt.xlabel(\"x\") # ось абсцисс\n",
    "plt.ylabel(\"y\") # ось ординат\n",
    "plt.grid()      # включение отображение сетки\n",
    "plt.plot(x, y, \"r--\")  # построение графика"
   ]
  },
  {
   "cell_type": "markdown",
   "metadata": {},
   "source": [
    "**Несколько графиков на одном поле**\n",
    "\n",
    "Построим несколько графиков на одном поле, для этого добавим квадратичную зависимость:"
   ]
  },
  {
   "cell_type": "code",
   "execution_count": 150,
   "metadata": {},
   "outputs": [
    {
     "data": {
      "text/plain": [
       "[<matplotlib.lines.Line2D at 0x7f5abdbd6520>,\n",
       " <matplotlib.lines.Line2D at 0x7f5abdbd6550>]"
      ]
     },
     "execution_count": 150,
     "metadata": {},
     "output_type": "execute_result"
    },
    {
     "data": {
      "image/png": "[encoded data removed]",
      "text/plain": [
       "<Figure size 432x288 with 1 Axes>"
      ]
     },
     "metadata": {
      "needs_background": "light"
     },
     "output_type": "display_data"
    }
   ],
   "source": [
    "# Линейная зависимость\n",
    "x = np.linspace(0, 10, 50)\n",
    "y1 = x\n",
    "# Квадратичная зависимость\n",
    "y2 = [i**2 for i in x]\n",
    "# Построение графика\n",
    "plt.title(\"Зависимости: y1 = x, y2 = x^2\") # заголовок\n",
    "plt.xlabel(\"x\")         # ось абсцисс\n",
    "plt.ylabel(\"y1, y2\")    # ось ординат\n",
    "plt.grid()              # включение отображение сетки\n",
    "plt.plot(x, y1, x, y2)  # построение графика"
   ]
  },
  {
   "cell_type": "markdown",
   "metadata": {},
   "source": [
    "В приведенном примере в функцию plot() последовательно передаются два массива для построения первого графика и два массива для построения второго, при этом, как вы можете заметить, для обоих графиков массив значений независимой переменной x один и то же."
   ]
  },
  {
   "cell_type": "markdown",
   "metadata": {},
   "source": [
    "**Несколько разделенных полей с графиками**\n",
    "\n",
    "Третья, довольно часто встречающаяся задача – это отобразить два или более различных поля, на которых будет отображено по одному или более графику.\n",
    "\n",
    "Построим уже известные нам две зависимость на разных полях."
   ]
  },
  {
   "cell_type": "code",
   "execution_count": 151,
   "metadata": {},
   "outputs": [
    {
     "data": {
      "image/png": "[encoded data removed]",
      "text/plain": [
       "<Figure size 648x648 with 2 Axes>"
      ]
     },
     "metadata": {
      "needs_background": "light"
     },
     "output_type": "display_data"
    }
   ],
   "source": [
    "# Линейная зависимость\n",
    "x = np.linspace(0, 10, 50)\n",
    "y1 = x\n",
    "# Квадратичная зависимость\n",
    "y2 = [i**2 for i in x]\n",
    "# Построение графиков\n",
    "plt.figure(figsize=(9, 9))\n",
    "plt.subplot(2, 1, 1)\n",
    "plt.plot(x, y1)               # построение графика\n",
    "plt.title(\"Зависимости: y1 = x, y2 = x^2\") # заголовок\n",
    "plt.ylabel(\"y1\", fontsize=14) # ось ординат\n",
    "plt.grid(True)                # включение отображение сетки\n",
    "plt.subplot(2, 1, 2)\n",
    "plt.plot(x, y2)               # построение графика\n",
    "plt.xlabel(\"x\", fontsize=14)  # ось абсцисс\n",
    "plt.ylabel(\"y2\", fontsize=14) # ось ординат\n",
    "plt.grid(True)                # включение отображение сетки"
   ]
  },
  {
   "cell_type": "markdown",
   "metadata": {},
   "source": [
    "Здесь мы воспользовались новыми функциями: \n",
    "\n",
    "figure() – функция для задания глобальных параметров отображения графиков. В нее, в качестве аргумента, мы передаем кортеж, определяющий размер общего поля. \n",
    "\n",
    "subplot() – функция для задания местоположения поля с графиком. Существует несколько способов задания областей для вывода через функцию subplot() мы воспользовались следующим: первый аргумент – количество строк, второй – столбцов в формируемом поле, третий – индекс (номер поля, считаем сверху вниз, слева направо).\n",
    "\n",
    "Дополнительно мы использовали параметр fontsize для функций xlabel() и ylabel(), для задания размера шрифта."
   ]
  },
  {
   "cell_type": "markdown",
   "metadata": {},
   "source": [
    "**Точечная диаграмма (scatter plot)**"
   ]
  },
  {
   "cell_type": "code",
   "execution_count": 158,
   "metadata": {},
   "outputs": [
    {
     "name": "stdout",
     "output_type": "stream",
     "text": [
      "x [0.07338143 0.98809446 0.17560568 0.69541348 0.21066838 0.48075883\n",
      " 0.48518414 0.72418389 0.9804132  0.55892805 0.62139827 0.25555224\n",
      " 0.88855082 0.79474883 0.22045477 0.74036049 0.05863189 0.69590872\n",
      " 0.16273342 0.52425801 0.34097019 0.26797248 0.44538267 0.28720715\n",
      " 0.80732836 0.14937186 0.49042697 0.73991063 0.17032938 0.74349314\n",
      " 0.76364711 0.24741546 0.66461073 0.31267006 0.87786744 0.81382539\n",
      " 0.3408356  0.43928913 0.33992644 0.66842213 0.43478641 0.80791901\n",
      " 0.16133523 0.52355691 0.32779056 0.25262405 0.7730889  0.45280432\n",
      " 0.22541088 0.63316202]\n",
      "y [0.33880435 0.02217768 0.50509806 0.03663871 0.08469509 0.03728441\n",
      " 0.90795554 0.00194496 0.62978342 0.42658323 0.89642204 0.96382841\n",
      " 0.11822383 0.35254121 0.94724842 0.81824284 0.52904027 0.1378346\n",
      " 0.95086213 0.24731195 0.98467608 0.95153436 0.00106765 0.51848021\n",
      " 0.71820273 0.71540166 0.78744347 0.0301841  0.42635637 0.59849579\n",
      " 0.87164393 0.46284872 0.33560258 0.49817687 0.28669578 0.74065566\n",
      " 0.63797157 0.27196708 0.93714847 0.91163134 0.75338346 0.81690824\n",
      " 0.84243737 0.02789894 0.54942108 0.10255708 0.21492148 0.08560547\n",
      " 0.68801055 0.82954562]\n"
     ]
    },
    {
     "data": {
      "image/png": "[encoded data removed]",
      "text/plain": [
       "<Figure size 432x288 with 1 Axes>"
      ]
     },
     "metadata": {
      "needs_background": "light"
     },
     "output_type": "display_data"
    }
   ],
   "source": [
    "import numpy as np\n",
    "import matplotlib.pyplot as plt\n",
    "\n",
    "\n",
    "N = 50\n",
    "x = np.random.rand(N) # случайный вектор из 50 элементов\n",
    "print(\"x\", x)\n",
    "y = np.random.rand(N) # случайный вектор из 50 элементов\n",
    "print(\"y\", y)\n",
    "colors = np.random.rand(N) # случайный вектор из 50 элементов, чтобы задавать цвета каждой из точек\n",
    "area = (30 * np.random.rand(N))**2 # случайные площади каждой из точек\n",
    "\n",
    "plt.scatter(x, y, s=area, c=colors, alpha=0.5) # нанесение точек на диаграмму, x и y - координаты\n",
    "                                               # area - площади точек, colors - цвета точек\n",
    "                                               # alpha - значение прозрачности точек\n",
    "plt.show()"
   ]
  },
  {
   "cell_type": "markdown",
   "metadata": {},
   "source": [
    "**Пример с вычислением числа $\\pi$ с помощью метода Монте Карло и визуализация результатов**"
   ]
  },
  {
   "cell_type": "markdown",
   "metadata": {},
   "source": [
    "Переключим режим отображения графиков в notebook:"
   ]
  },
  {
   "cell_type": "code",
   "execution_count": 159,
   "metadata": {},
   "outputs": [],
   "source": [
    "%matplotlib notebook"
   ]
  },
  {
   "cell_type": "code",
   "execution_count": 160,
   "metadata": {},
   "outputs": [],
   "source": [
    "import matplotlib.pyplot as plt\n",
    "import numpy as np\n",
    "from matplotlib.axes import Axes\n",
    "from scipy.stats import norm\n",
    "\n",
    "class PiAnimation:\n",
    "    def __init__(self, ax: Axes, ax_pi: Axes, ax_gaus: Axes):\n",
    "        self.inner = 0\n",
    "        self.out = 0\n",
    "\n",
    "        self.xi, self.yi = [], []\n",
    "        self.xo, self.yo = [], []\n",
    "\n",
    "        ax.set_xlim(-1.0, 1.5)\n",
    "        ax.set_ylim(-1.0, 1.5)\n",
    "        ax.axis(\"off\")\n",
    "        ax.add_artist(plt.Circle((0.0, 0.0), 1, fill=False))\n",
    "        ax.add_artist(plt.Rectangle((-1, -1), 2, 2, fill=False))\n",
    "\n",
    "        self.line_i = ax.plot(self.xi, self.yi, \"ro\")[0]\n",
    "        self.line_o = ax.plot(self.xo, self.yo, \"bo\")[0]\n",
    "        self.text = ax.text(0.3, 1.1, \"\", fontdict={\"fontsize\": 32})\n",
    "        self.text_n = ax.text(-0.9, 1.1, \"\", fontdict={\"fontsize\": 32})\n",
    "\n",
    "        self.ax_pi = ax_pi\n",
    "        self.pi = []\n",
    "        self.pi_line = ax_pi.plot([], self.pi,\"-\")[0]\n",
    "        ax_pi.set_ylim(0, 2*np.pi)\n",
    "\n",
    "        self.ax_gaus = ax_gaus\n",
    "        self.gauss_point = np.linspace(0.5*np.pi, 1.5 * np.pi, 200)\n",
    "        self.gauss = ax_gaus.plot(self.gauss_point, np.zeros(200), \"\")[0]\n",
    "\n",
    "    def __call__(self, n):\n",
    "        x, y = 2*(np.random.random_sample(2) - 0.5)\n",
    "        if x ** 2 + y ** 2 <= 1:\n",
    "            self.inner += 1\n",
    "            self.xi.append(x)\n",
    "            self.yi.append(y)\n",
    "            self.line_i.set_data(self.xi, self.yi)\n",
    "        else:\n",
    "            self.out +=1\n",
    "            self.xo.append(x)\n",
    "            self.yo.append(y)\n",
    "            self.line_o.set_data(self.xo, self.yo)\n",
    "        N = self.inner + self.out\n",
    "        prob = self.inner/N\n",
    "        pi = 4*prob\n",
    "        self.pi.append(pi)\n",
    "        self.text.set_text(r\"$\\pi = {:.5}$\".format(pi))\n",
    "        self.text_n.set_text(\"N = {:5d}   \".format(N))\n",
    "\n",
    "        self.pi_line.set_data(range(N), self.pi)\n",
    "        self.ax_pi.relim()\n",
    "        self.ax_pi.autoscale()\n",
    "\n",
    "        mean, var = np.mean(self.pi), np.var(self.pi)\n",
    "\n",
    "        if N > 3:\n",
    "            self.gauss.set_data(self.gauss_point, norm.pdf(self.gauss_point, loc = mean, scale = var))\n",
    "            self.ax_gaus.relim()\n",
    "            self.ax_gaus.autoscale()\n",
    "        return self.line_i, self.line_o, self.text, self.text_n, self.pi_line, self.gauss"
   ]
  },
  {
   "cell_type": "code",
   "execution_count": 166,
   "metadata": {},
   "outputs": [
    {
     "data": {
      "application/javascript": [
       "/* Put everything inside the global mpl namespace */\n",
       "/* global mpl */\n",
       "window.mpl = {};\n",
       "\n",
       "mpl.get_websocket_type = function () {\n",
       "    if (typeof WebSocket !== 'undefined') {\n",
       "        return WebSocket;\n",
       "    } else if (typeof MozWebSocket !== 'undefined') {\n",
       "        return MozWebSocket;\n",
       "    } else {\n",
       "        alert(\n",
       "            'Your browser does not have WebSocket support. ' +\n",
       "                'Please try Chrome, Safari or Firefox ≥ 6. ' +\n",
       "                'Firefox 4 and 5 are also supported but you ' +\n",
       "                'have to enable WebSockets in about:config.'\n",
       "        );\n",
       "    }\n",
       "};\n",
       "\n",
       "mpl.figure = function (figure_id, websocket, ondownload, parent_element) {\n",
       "    this.id = figure_id;\n",
       "\n",
       "    this.ws = websocket;\n",
       "\n",
       "    this.supports_binary = this.ws.binaryType !== undefined;\n",
       "\n",
       "    if (!this.supports_binary) {\n",
       "        var warnings = document.getElementById('mpl-warnings');\n",
       "        if (warnings) {\n",
       "            warnings.style.display = 'block';\n",
       "            warnings.textContent =\n",
       "                'This browser does not support binary websocket messages. ' +\n",
       "                'Performance may be slow.';\n",
       "        }\n",
       "    }\n",
       "\n",
       "    this.imageObj = new Image();\n",
       "\n",
       "    this.context = undefined;\n",
       "    this.message = undefined;\n",
       "    this.canvas = undefined;\n",
       "    this.rubberband_canvas = undefined;\n",
       "    this.rubberband_context = undefined;\n",
       "    this.format_dropdown = undefined;\n",
       "\n",
       "    this.image_mode = 'full';\n",
       "\n",
       "    this.root = document.createElement('div');\n",
       "    this.root.setAttribute('style', 'display: inline-block');\n",
       "    this._root_extra_style(this.root);\n",
       "\n",
       "    parent_element.appendChild(this.root);\n",
       "\n",
       "    this._init_header(this);\n",
       "    this._init_canvas(this);\n",
       "    this._init_toolbar(this);\n",
       "\n",
       "    var fig = this;\n",
       "\n",
       "    this.waiting = false;\n",
       "\n",
       "    this.ws.onopen = function () {\n",
       "        fig.send_message('supports_binary', { value: fig.supports_binary });\n",
       "        fig.send_message('send_image_mode', {});\n",
       "        if (fig.ratio !== 1) {\n",
       "            fig.send_message('set_dpi_ratio', { dpi_ratio: fig.ratio });\n",
       "        }\n",
       "        fig.send_message('refresh', {});\n",
       "    };\n",
       "\n",
       "    this.imageObj.onload = function () {\n",
       "        if (fig.image_mode === 'full') {\n",
       "            // Full images could contain transparency (where diff images\n",
       "            // almost always do), so we need to clear the canvas so that\n",
       "            // there is no ghosting.\n",
       "            fig.context.clearRect(0, 0, fig.canvas.width, fig.canvas.height);\n",
       "        }\n",
       "        fig.context.drawImage(fig.imageObj, 0, 0);\n",
       "    };\n",
       "\n",
       "    this.imageObj.onunload = function () {\n",
       "        fig.ws.close();\n",
       "    };\n",
       "\n",
       "    this.ws.onmessage = this._make_on_message_function(this);\n",
       "\n",
       "    this.ondownload = ondownload;\n",
       "};\n",
       "\n",
       "mpl.figure.prototype._init_header = function () {\n",
       "    var titlebar = document.createElement('div');\n",
       "    titlebar.classList =\n",
       "        'ui-dialog-titlebar ui-widget-header ui-corner-all ui-helper-clearfix';\n",
       "    var titletext = document.createElement('div');\n",
       "    titletext.classList = 'ui-dialog-title';\n",
       "    titletext.setAttribute(\n",
       "        'style',\n",
       "        'width: 100%; text-align: center; padding: 3px;'\n",
       "    );\n",
       "    titlebar.appendChild(titletext);\n",
       "    this.root.appendChild(titlebar);\n",
       "    this.header = titletext;\n",
       "};\n",
       "\n",
       "mpl.figure.prototype._canvas_extra_style = function (_canvas_div) {};\n",
       "\n",
       "mpl.figure.prototype._root_extra_style = function (_canvas_div) {};\n",
       "\n",
       "mpl.figure.prototype._init_canvas = function () {\n",
       "    var fig = this;\n",
       "\n",
       "    var canvas_div = (this.canvas_div = document.createElement('div'));\n",
       "    canvas_div.setAttribute(\n",
       "        'style',\n",
       "        'border: 1px solid #ddd;' +\n",
       "            'box-sizing: content-box;' +\n",
       "            'clear: both;' +\n",
       "            'min-height: 1px;' +\n",
       "            'min-width: 1px;' +\n",
       "            'outline: 0;' +\n",
       "            'overflow: hidden;' +\n",
       "            'position: relative;' +\n",
       "            'resize: both;'\n",
       "    );\n",
       "\n",
       "    function on_keyboard_event_closure(name) {\n",
       "        return function (event) {\n",
       "            return fig.key_event(event, name);\n",
       "        };\n",
       "    }\n",
       "\n",
       "    canvas_div.addEventListener(\n",
       "        'keydown',\n",
       "        on_keyboard_event_closure('key_press')\n",
       "    );\n",
       "    canvas_div.addEventListener(\n",
       "        'keyup',\n",
       "        on_keyboard_event_closure('key_release')\n",
       "    );\n",
       "\n",
       "    this._canvas_extra_style(canvas_div);\n",
       "    this.root.appendChild(canvas_div);\n",
       "\n",
       "    var canvas = (this.canvas = document.createElement('canvas'));\n",
       "    canvas.classList.add('mpl-canvas');\n",
       "    canvas.setAttribute('style', 'box-sizing: content-box;');\n",
       "\n",
       "    this.context = canvas.getContext('2d');\n",
       "\n",
       "    var backingStore =\n",
       "        this.context.backingStorePixelRatio ||\n",
       "        this.context.webkitBackingStorePixelRatio ||\n",
       "        this.context.mozBackingStorePixelRatio ||\n",
       "        this.context.msBackingStorePixelRatio ||\n",
       "        this.context.oBackingStorePixelRatio ||\n",
       "        this.context.backingStorePixelRatio ||\n",
       "        1;\n",
       "\n",
       "    this.ratio = (window.devicePixelRatio || 1) / backingStore;\n",
       "\n",
       "    var rubberband_canvas = (this.rubberband_canvas = document.createElement(\n",
       "        'canvas'\n",
       "    ));\n",
       "    rubberband_canvas.setAttribute(\n",
       "        'style',\n",
       "        'box-sizing: content-box; position: absolute; left: 0; top: 0; z-index: 1;'\n",
       "    );\n",
       "\n",
       "    // Apply a ponyfill if ResizeObserver is not implemented by browser.\n",
       "    if (this.ResizeObserver === undefined) {\n",
       "        if (window.ResizeObserver !== undefined) {\n",
       "            this.ResizeObserver = window.ResizeObserver;\n",
       "        } else {\n",
       "            var obs = _JSXTOOLS_RESIZE_OBSERVER({});\n",
       "            this.ResizeObserver = obs.ResizeObserver;\n",
       "        }\n",
       "    }\n",
       "\n",
       "    this.resizeObserverInstance = new this.ResizeObserver(function (entries) {\n",
       "        var nentries = entries.length;\n",
       "        for (var i = 0; i < nentries; i++) {\n",
       "            var entry = entries[i];\n",
       "            var width, height;\n",
       "            if (entry.contentBoxSize) {\n",
       "                if (entry.contentBoxSize instanceof Array) {\n",
       "                    // Chrome 84 implements new version of spec.\n",
       "                    width = entry.contentBoxSize[0].inlineSize;\n",
       "                    height = entry.contentBoxSize[0].blockSize;\n",
       "                } else {\n",
       "                    // Firefox implements old version of spec.\n",
       "                    width = entry.contentBoxSize.inlineSize;\n",
       "                    height = entry.contentBoxSize.blockSize;\n",
       "                }\n",
       "            } else {\n",
       "                // Chrome <84 implements even older version of spec.\n",
       "                width = entry.contentRect.width;\n",
       "                height = entry.contentRect.height;\n",
       "            }\n",
       "\n",
       "            // Keep the size of the canvas and rubber band canvas in sync with\n",
       "            // the canvas container.\n",
       "            if (entry.devicePixelContentBoxSize) {\n",
       "                // Chrome 84 implements new version of spec.\n",
       "                canvas.setAttribute(\n",
       "                    'width',\n",
       "                    entry.devicePixelContentBoxSize[0].inlineSize\n",
       "                );\n",
       "                canvas.setAttribute(\n",
       "                    'height',\n",
       "                    entry.devicePixelContentBoxSize[0].blockSize\n",
       "                );\n",
       "            } else {\n",
       "                canvas.setAttribute('width', width * fig.ratio);\n",
       "                canvas.setAttribute('height', height * fig.ratio);\n",
       "            }\n",
       "            canvas.setAttribute(\n",
       "                'style',\n",
       "                'width: ' + width + 'px; height: ' + height + 'px;'\n",
       "            );\n",
       "\n",
       "            rubberband_canvas.setAttribute('width', width);\n",
       "            rubberband_canvas.setAttribute('height', height);\n",
       "\n",
       "            // And update the size in Python. We ignore the initial 0/0 size\n",
       "            // that occurs as the element is placed into the DOM, which should\n",
       "            // otherwise not happen due to the minimum size styling.\n",
       "            if (fig.ws.readyState == 1 && width != 0 && height != 0) {\n",
       "                fig.request_resize(width, height);\n",
       "            }\n",
       "        }\n",
       "    });\n",
       "    this.resizeObserverInstance.observe(canvas_div);\n",
       "\n",
       "    function on_mouse_event_closure(name) {\n",
       "        return function (event) {\n",
       "            return fig.mouse_event(event, name);\n",
       "        };\n",
       "    }\n",
       "\n",
       "    rubberband_canvas.addEventListener(\n",
       "        'mousedown',\n",
       "        on_mouse_event_closure('button_press')\n",
       "    );\n",
       "    rubberband_canvas.addEventListener(\n",
       "        'mouseup',\n",
       "        on_mouse_event_closure('button_release')\n",
       "    );\n",
       "    rubberband_canvas.addEventListener(\n",
       "        'dblclick',\n",
       "        on_mouse_event_closure('dblclick')\n",
       "    );\n",
       "    // Throttle sequential mouse events to 1 every 20ms.\n",
       "    rubberband_canvas.addEventListener(\n",
       "        'mousemove',\n",
       "        on_mouse_event_closure('motion_notify')\n",
       "    );\n",
       "\n",
       "    rubberband_canvas.addEventListener(\n",
       "        'mouseenter',\n",
       "        on_mouse_event_closure('figure_enter')\n",
       "    );\n",
       "    rubberband_canvas.addEventListener(\n",
       "        'mouseleave',\n",
       "        on_mouse_event_closure('figure_leave')\n",
       "    );\n",
       "\n",
       "    canvas_div.addEventListener('wheel', function (event) {\n",
       "        if (event.deltaY < 0) {\n",
       "            event.step = 1;\n",
       "        } else {\n",
       "            event.step = -1;\n",
       "        }\n",
       "        on_mouse_event_closure('scroll')(event);\n",
       "    });\n",
       "\n",
       "    canvas_div.appendChild(canvas);\n",
       "    canvas_div.appendChild(rubberband_canvas);\n",
       "\n",
       "    this.rubberband_context = rubberband_canvas.getContext('2d');\n",
       "    this.rubberband_context.strokeStyle = '#000000';\n",
       "\n",
       "    this._resize_canvas = function (width, height, forward) {\n",
       "        if (forward) {\n",
       "            canvas_div.style.width = width + 'px';\n",
       "            canvas_div.style.height = height + 'px';\n",
       "        }\n",
       "    };\n",
       "\n",
       "    // Disable right mouse context menu.\n",
       "    this.rubberband_canvas.addEventListener('contextmenu', function (_e) {\n",
       "        event.preventDefault();\n",
       "        return false;\n",
       "    });\n",
       "\n",
       "    function set_focus() {\n",
       "        canvas.focus();\n",
       "        canvas_div.focus();\n",
       "    }\n",
       "\n",
       "    window.setTimeout(set_focus, 100);\n",
       "};\n",
       "\n",
       "mpl.figure.prototype._init_toolbar = function () {\n",
       "    var fig = this;\n",
       "\n",
       "    var toolbar = document.createElement('div');\n",
       "    toolbar.classList = 'mpl-toolbar';\n",
       "    this.root.appendChild(toolbar);\n",
       "\n",
       "    function on_click_closure(name) {\n",
       "        return function (_event) {\n",
       "            return fig.toolbar_button_onclick(name);\n",
       "        };\n",
       "    }\n",
       "\n",
       "    function on_mouseover_closure(tooltip) {\n",
       "        return function (event) {\n",
       "            if (!event.currentTarget.disabled) {\n",
       "                return fig.toolbar_button_onmouseover(tooltip);\n",
       "            }\n",
       "        };\n",
       "    }\n",
       "\n",
       "    fig.buttons = {};\n",
       "    var buttonGroup = document.createElement('div');\n",
       "    buttonGroup.classList = 'mpl-button-group';\n",
       "    for (var toolbar_ind in mpl.toolbar_items) {\n",
       "        var name = mpl.toolbar_items[toolbar_ind][0];\n",
       "        var tooltip = mpl.toolbar_items[toolbar_ind][1];\n",
       "        var image = mpl.toolbar_items[toolbar_ind][2];\n",
       "        var method_name = mpl.toolbar_items[toolbar_ind][3];\n",
       "\n",
       "        if (!name) {\n",
       "            /* Instead of a spacer, we start a new button group. */\n",
       "            if (buttonGroup.hasChildNodes()) {\n",
       "                toolbar.appendChild(buttonGroup);\n",
       "            }\n",
       "            buttonGroup = document.createElement('div');\n",
       "            buttonGroup.classList = 'mpl-button-group';\n",
       "            continue;\n",
       "        }\n",
       "\n",
       "        var button = (fig.buttons[name] = document.createElement('button'));\n",
       "        button.classList = 'mpl-widget';\n",
       "        button.setAttribute('role', 'button');\n",
       "        button.setAttribute('aria-disabled', 'false');\n",
       "        button.addEventListener('click', on_click_closure(method_name));\n",
       "        button.addEventListener('mouseover', on_mouseover_closure(tooltip));\n",
       "\n",
       "        var icon_img = document.createElement('img');\n",
       "        icon_img.src = '_images/' + image + '.png';\n",
       "        icon_img.srcset = '_images/' + image + '_large.png 2x';\n",
       "        icon_img.alt = tooltip;\n",
       "        button.appendChild(icon_img);\n",
       "\n",
       "        buttonGroup.appendChild(button);\n",
       "    }\n",
       "\n",
       "    if (buttonGroup.hasChildNodes()) {\n",
       "        toolbar.appendChild(buttonGroup);\n",
       "    }\n",
       "\n",
       "    var fmt_picker = document.createElement('select');\n",
       "    fmt_picker.classList = 'mpl-widget';\n",
       "    toolbar.appendChild(fmt_picker);\n",
       "    this.format_dropdown = fmt_picker;\n",
       "\n",
       "    for (var ind in mpl.extensions) {\n",
       "        var fmt = mpl.extensions[ind];\n",
       "        var option = document.createElement('option');\n",
       "        option.selected = fmt === mpl.default_extension;\n",
       "        option.innerHTML = fmt;\n",
       "        fmt_picker.appendChild(option);\n",
       "    }\n",
       "\n",
       "    var status_bar = document.createElement('span');\n",
       "    status_bar.classList = 'mpl-message';\n",
       "    toolbar.appendChild(status_bar);\n",
       "    this.message = status_bar;\n",
       "};\n",
       "\n",
       "mpl.figure.prototype.request_resize = function (x_pixels, y_pixels) {\n",
       "    // Request matplotlib to resize the figure. Matplotlib will then trigger a resize in the client,\n",
       "    // which will in turn request a refresh of the image.\n",
       "    this.send_message('resize', { width: x_pixels, height: y_pixels });\n",
       "};\n",
       "\n",
       "mpl.figure.prototype.send_message = function (type, properties) {\n",
       "    properties['type'] = type;\n",
       "    properties['figure_id'] = this.id;\n",
       "    this.ws.send(JSON.stringify(properties));\n",
       "};\n",
       "\n",
       "mpl.figure.prototype.send_draw_message = function () {\n",
       "    if (!this.waiting) {\n",
       "        this.waiting = true;\n",
       "        this.ws.send(JSON.stringify({ type: 'draw', figure_id: this.id }));\n",
       "    }\n",
       "};\n",
       "\n",
       "mpl.figure.prototype.handle_save = function (fig, _msg) {\n",
       "    var format_dropdown = fig.format_dropdown;\n",
       "    var format = format_dropdown.options[format_dropdown.selectedIndex].value;\n",
       "    fig.ondownload(fig, format);\n",
       "};\n",
       "\n",
       "mpl.figure.prototype.handle_resize = function (fig, msg) {\n",
       "    var size = msg['size'];\n",
       "    if (size[0] !== fig.canvas.width || size[1] !== fig.canvas.height) {\n",
       "        fig._resize_canvas(size[0], size[1], msg['forward']);\n",
       "        fig.send_message('refresh', {});\n",
       "    }\n",
       "};\n",
       "\n",
       "mpl.figure.prototype.handle_rubberband = function (fig, msg) {\n",
       "    var x0 = msg['x0'] / fig.ratio;\n",
       "    var y0 = (fig.canvas.height - msg['y0']) / fig.ratio;\n",
       "    var x1 = msg['x1'] / fig.ratio;\n",
       "    var y1 = (fig.canvas.height - msg['y1']) / fig.ratio;\n",
       "    x0 = Math.floor(x0) + 0.5;\n",
       "    y0 = Math.floor(y0) + 0.5;\n",
       "    x1 = Math.floor(x1) + 0.5;\n",
       "    y1 = Math.floor(y1) + 0.5;\n",
       "    var min_x = Math.min(x0, x1);\n",
       "    var min_y = Math.min(y0, y1);\n",
       "    var width = Math.abs(x1 - x0);\n",
       "    var height = Math.abs(y1 - y0);\n",
       "\n",
       "    fig.rubberband_context.clearRect(\n",
       "        0,\n",
       "        0,\n",
       "        fig.canvas.width / fig.ratio,\n",
       "        fig.canvas.height / fig.ratio\n",
       "    );\n",
       "\n",
       "    fig.rubberband_context.strokeRect(min_x, min_y, width, height);\n",
       "};\n",
       "\n",
       "mpl.figure.prototype.handle_figure_label = function (fig, msg) {\n",
       "    // Updates the figure title.\n",
       "    fig.header.textContent = msg['label'];\n",
       "};\n",
       "\n",
       "mpl.figure.prototype.handle_cursor = function (fig, msg) {\n",
       "    var cursor = msg['cursor'];\n",
       "    switch (cursor) {\n",
       "        case 0:\n",
       "            cursor = 'pointer';\n",
       "            break;\n",
       "        case 1:\n",
       "            cursor = 'default';\n",
       "            break;\n",
       "        case 2:\n",
       "            cursor = 'crosshair';\n",
       "            break;\n",
       "        case 3:\n",
       "            cursor = 'move';\n",
       "            break;\n",
       "    }\n",
       "    fig.rubberband_canvas.style.cursor = cursor;\n",
       "};\n",
       "\n",
       "mpl.figure.prototype.handle_message = function (fig, msg) {\n",
       "    fig.message.textContent = msg['message'];\n",
       "};\n",
       "\n",
       "mpl.figure.prototype.handle_draw = function (fig, _msg) {\n",
       "    // Request the server to send over a new figure.\n",
       "    fig.send_draw_message();\n",
       "};\n",
       "\n",
       "mpl.figure.prototype.handle_image_mode = function (fig, msg) {\n",
       "    fig.image_mode = msg['mode'];\n",
       "};\n",
       "\n",
       "mpl.figure.prototype.handle_history_buttons = function (fig, msg) {\n",
       "    for (var key in msg) {\n",
       "        if (!(key in fig.buttons)) {\n",
       "            continue;\n",
       "        }\n",
       "        fig.buttons[key].disabled = !msg[key];\n",
       "        fig.buttons[key].setAttribute('aria-disabled', !msg[key]);\n",
       "    }\n",
       "};\n",
       "\n",
       "mpl.figure.prototype.handle_navigate_mode = function (fig, msg) {\n",
       "    if (msg['mode'] === 'PAN') {\n",
       "        fig.buttons['Pan'].classList.add('active');\n",
       "        fig.buttons['Zoom'].classList.remove('active');\n",
       "    } else if (msg['mode'] === 'ZOOM') {\n",
       "        fig.buttons['Pan'].classList.remove('active');\n",
       "        fig.buttons['Zoom'].classList.add('active');\n",
       "    } else {\n",
       "        fig.buttons['Pan'].classList.remove('active');\n",
       "        fig.buttons['Zoom'].classList.remove('active');\n",
       "    }\n",
       "};\n",
       "\n",
       "mpl.figure.prototype.updated_canvas_event = function () {\n",
       "    // Called whenever the canvas gets updated.\n",
       "    this.send_message('ack', {});\n",
       "};\n",
       "\n",
       "// A function to construct a web socket function for onmessage handling.\n",
       "// Called in the figure constructor.\n",
       "mpl.figure.prototype._make_on_message_function = function (fig) {\n",
       "    return function socket_on_message(evt) {\n",
       "        if (evt.data instanceof Blob) {\n",
       "            var img = evt.data;\n",
       "            if (img.type !== 'image/png') {\n",
       "                /* FIXME: We get \"Resource interpreted as Image but\n",
       "                 * transferred with MIME type text/plain:\" errors on\n",
       "                 * Chrome.  But how to set the MIME type?  It doesn't seem\n",
       "                 * to be part of the websocket stream */\n",
       "                img.type = 'image/png';\n",
       "            }\n",
       "\n",
       "            /* Free the memory for the previous frames */\n",
       "            if (fig.imageObj.src) {\n",
       "                (window.URL || window.webkitURL).revokeObjectURL(\n",
       "                    fig.imageObj.src\n",
       "                );\n",
       "            }\n",
       "\n",
       "            fig.imageObj.src = (window.URL || window.webkitURL).createObjectURL(\n",
       "                img\n",
       "            );\n",
       "            fig.updated_canvas_event();\n",
       "            fig.waiting = false;\n",
       "            return;\n",
       "        } else if (\n",
       "            typeof evt.data === 'string' &&\n",
       "            evt.data.slice(0, 21) === 'data:image/png;base64'\n",
       "        ) {\n",
       "            fig.imageObj.src = evt.data;\n",
       "            fig.updated_canvas_event();\n",
       "            fig.waiting = false;\n",
       "            return;\n",
       "        }\n",
       "\n",
       "        var msg = JSON.parse(evt.data);\n",
       "        var msg_type = msg['type'];\n",
       "\n",
       "        // Call the  \"handle_{type}\" callback, which takes\n",
       "        // the figure and JSON message as its only arguments.\n",
       "        try {\n",
       "            var callback = fig['handle_' + msg_type];\n",
       "        } catch (e) {\n",
       "            console.log(\n",
       "                \"No handler for the '\" + msg_type + \"' message type: \",\n",
       "                msg\n",
       "            );\n",
       "            return;\n",
       "        }\n",
       "\n",
       "        if (callback) {\n",
       "            try {\n",
       "                // console.log(\"Handling '\" + msg_type + \"' message: \", msg);\n",
       "                callback(fig, msg);\n",
       "            } catch (e) {\n",
       "                console.log(\n",
       "                    \"Exception inside the 'handler_\" + msg_type + \"' callback:\",\n",
       "                    e,\n",
       "                    e.stack,\n",
       "                    msg\n",
       "                );\n",
       "            }\n",
       "        }\n",
       "    };\n",
       "};\n",
       "\n",
       "// from http://stackoverflow.com/questions/1114465/getting-mouse-location-in-canvas\n",
       "mpl.findpos = function (e) {\n",
       "    //this section is from http://www.quirksmode.org/js/events_properties.html\n",
       "    var targ;\n",
       "    if (!e) {\n",
       "        e = window.event;\n",
       "    }\n",
       "    if (e.target) {\n",
       "        targ = e.target;\n",
       "    } else if (e.srcElement) {\n",
       "        targ = e.srcElement;\n",
       "    }\n",
       "    if (targ.nodeType === 3) {\n",
       "        // defeat Safari bug\n",
       "        targ = targ.parentNode;\n",
       "    }\n",
       "\n",
       "    // pageX,Y are the mouse positions relative to the document\n",
       "    var boundingRect = targ.getBoundingClientRect();\n",
       "    var x = e.pageX - (boundingRect.left + document.body.scrollLeft);\n",
       "    var y = e.pageY - (boundingRect.top + document.body.scrollTop);\n",
       "\n",
       "    return { x: x, y: y };\n",
       "};\n",
       "\n",
       "/*\n",
       " * return a copy of an object with only non-object keys\n",
       " * we need this to avoid circular references\n",
       " * http://stackoverflow.com/a/24161582/3208463\n",
       " */\n",
       "function simpleKeys(original) {\n",
       "    return Object.keys(original).reduce(function (obj, key) {\n",
       "        if (typeof original[key] !== 'object') {\n",
       "            obj[key] = original[key];\n",
       "        }\n",
       "        return obj;\n",
       "    }, {});\n",
       "}\n",
       "\n",
       "mpl.figure.prototype.mouse_event = function (event, name) {\n",
       "    var canvas_pos = mpl.findpos(event);\n",
       "\n",
       "    if (name === 'button_press') {\n",
       "        this.canvas.focus();\n",
       "        this.canvas_div.focus();\n",
       "    }\n",
       "\n",
       "    var x = canvas_pos.x * this.ratio;\n",
       "    var y = canvas_pos.y * this.ratio;\n",
       "\n",
       "    this.send_message(name, {\n",
       "        x: x,\n",
       "        y: y,\n",
       "        button: event.button,\n",
       "        step: event.step,\n",
       "        guiEvent: simpleKeys(event),\n",
       "    });\n",
       "\n",
       "    /* This prevents the web browser from automatically changing to\n",
       "     * the text insertion cursor when the button is pressed.  We want\n",
       "     * to control all of the cursor setting manually through the\n",
       "     * 'cursor' event from matplotlib */\n",
       "    event.preventDefault();\n",
       "    return false;\n",
       "};\n",
       "\n",
       "mpl.figure.prototype._key_event_extra = function (_event, _name) {\n",
       "    // Handle any extra behaviour associated with a key event\n",
       "};\n",
       "\n",
       "mpl.figure.prototype.key_event = function (event, name) {\n",
       "    // Prevent repeat events\n",
       "    if (name === 'key_press') {\n",
       "        if (event.key === this._key) {\n",
       "            return;\n",
       "        } else {\n",
       "            this._key = event.key;\n",
       "        }\n",
       "    }\n",
       "    if (name === 'key_release') {\n",
       "        this._key = null;\n",
       "    }\n",
       "\n",
       "    var value = '';\n",
       "    if (event.ctrlKey && event.key !== 'Control') {\n",
       "        value += 'ctrl+';\n",
       "    }\n",
       "    else if (event.altKey && event.key !== 'Alt') {\n",
       "        value += 'alt+';\n",
       "    }\n",
       "    else if (event.shiftKey && event.key !== 'Shift') {\n",
       "        value += 'shift+';\n",
       "    }\n",
       "\n",
       "    value += 'k' + event.key;\n",
       "\n",
       "    this._key_event_extra(event, name);\n",
       "\n",
       "    this.send_message(name, { key: value, guiEvent: simpleKeys(event) });\n",
       "    return false;\n",
       "};\n",
       "\n",
       "mpl.figure.prototype.toolbar_button_onclick = function (name) {\n",
       "    if (name === 'download') {\n",
       "        this.handle_save(this, null);\n",
       "    } else {\n",
       "        this.send_message('toolbar_button', { name: name });\n",
       "    }\n",
       "};\n",
       "\n",
       "mpl.figure.prototype.toolbar_button_onmouseover = function (tooltip) {\n",
       "    this.message.textContent = tooltip;\n",
       "};\n",
       "\n",
       "///////////////// REMAINING CONTENT GENERATED BY embed_js.py /////////////////\n",
       "// prettier-ignore\n",
       "var _JSXTOOLS_RESIZE_OBSERVER=function(A){var t,i=new WeakMap,n=new WeakMap,a=new WeakMap,r=new WeakMap,o=new Set;function s(e){if(!(this instanceof s))throw new TypeError(\"Constructor requires 'new' operator\");i.set(this,e)}function h(){throw new TypeError(\"Function is not a constructor\")}function c(e,t,i,n){e=0 in arguments?Number(arguments[0]):0,t=1 in arguments?Number(arguments[1]):0,i=2 in arguments?Number(arguments[2]):0,n=3 in arguments?Number(arguments[3]):0,this.right=(this.x=this.left=e)+(this.width=i),this.bottom=(this.y=this.top=t)+(this.height=n),Object.freeze(this)}function d(){t=requestAnimationFrame(d);var s=new WeakMap,p=new Set;o.forEach((function(t){r.get(t).forEach((function(i){var r=t instanceof window.SVGElement,o=a.get(t),d=r?0:parseFloat(o.paddingTop),f=r?0:parseFloat(o.paddingRight),l=r?0:parseFloat(o.paddingBottom),u=r?0:parseFloat(o.paddingLeft),g=r?0:parseFloat(o.borderTopWidth),m=r?0:parseFloat(o.borderRightWidth),w=r?0:parseFloat(o.borderBottomWidth),b=u+f,F=d+l,v=(r?0:parseFloat(o.borderLeftWidth))+m,W=g+w,y=r?0:t.offsetHeight-W-t.clientHeight,E=r?0:t.offsetWidth-v-t.clientWidth,R=b+v,z=F+W,M=r?t.width:parseFloat(o.width)-R-E,O=r?t.height:parseFloat(o.height)-z-y;if(n.has(t)){var k=n.get(t);if(k[0]===M&&k[1]===O)return}n.set(t,[M,O]);var S=Object.create(h.prototype);S.target=t,S.contentRect=new c(u,d,M,O),s.has(i)||(s.set(i,[]),p.add(i)),s.get(i).push(S)}))})),p.forEach((function(e){i.get(e).call(e,s.get(e),e)}))}return s.prototype.observe=function(i){if(i instanceof window.Element){r.has(i)||(r.set(i,new Set),o.add(i),a.set(i,window.getComputedStyle(i)));var n=r.get(i);n.has(this)||n.add(this),cancelAnimationFrame(t),t=requestAnimationFrame(d)}},s.prototype.unobserve=function(i){if(i instanceof window.Element&&r.has(i)){var n=r.get(i);n.has(this)&&(n.delete(this),n.size||(r.delete(i),o.delete(i))),n.size||r.delete(i),o.size||cancelAnimationFrame(t)}},A.DOMRectReadOnly=c,A.ResizeObserver=s,A.ResizeObserverEntry=h,A}; // eslint-disable-line\n",
       "mpl.toolbar_items = [[\"Home\", \"Reset original view\", \"fa fa-home icon-home\", \"home\"], [\"Back\", \"Back to previous view\", \"fa fa-arrow-left icon-arrow-left\", \"back\"], [\"Forward\", \"Forward to next view\", \"fa fa-arrow-right icon-arrow-right\", \"forward\"], [\"\", \"\", \"\", \"\"], [\"Pan\", \"Left button pans, Right button zooms\\nx/y fixes axis, CTRL fixes aspect\", \"fa fa-arrows icon-move\", \"pan\"], [\"Zoom\", \"Zoom to rectangle\\nx/y fixes axis, CTRL fixes aspect\", \"fa fa-square-o icon-check-empty\", \"zoom\"], [\"\", \"\", \"\", \"\"], [\"Download\", \"Download plot\", \"fa fa-floppy-o icon-save\", \"download\"]];\n",
       "\n",
       "mpl.extensions = [\"eps\", \"jpeg\", \"pgf\", \"pdf\", \"png\", \"ps\", \"raw\", \"svg\", \"tif\"];\n",
       "\n",
       "mpl.default_extension = \"png\";/* global mpl */\n",
       "\n",
       "var comm_websocket_adapter = function (comm) {\n",
       "    // Create a \"websocket\"-like object which calls the given IPython comm\n",
       "    // object with the appropriate methods. Currently this is a non binary\n",
       "    // socket, so there is still some room for performance tuning.\n",
       "    var ws = {};\n",
       "\n",
       "    ws.binaryType = comm.kernel.ws.binaryType;\n",
       "    ws.readyState = comm.kernel.ws.readyState;\n",
       "    function updateReadyState(_event) {\n",
       "        if (comm.kernel.ws) {\n",
       "            ws.readyState = comm.kernel.ws.readyState;\n",
       "        } else {\n",
       "            ws.readyState = 3; // Closed state.\n",
       "        }\n",
       "    }\n",
       "    comm.kernel.ws.addEventListener('open', updateReadyState);\n",
       "    comm.kernel.ws.addEventListener('close', updateReadyState);\n",
       "    comm.kernel.ws.addEventListener('error', updateReadyState);\n",
       "\n",
       "    ws.close = function () {\n",
       "        comm.close();\n",
       "    };\n",
       "    ws.send = function (m) {\n",
       "        //console.log('sending', m);\n",
       "        comm.send(m);\n",
       "    };\n",
       "    // Register the callback with on_msg.\n",
       "    comm.on_msg(function (msg) {\n",
       "        //console.log('receiving', msg['content']['data'], msg);\n",
       "        var data = msg['content']['data'];\n",
       "        if (data['blob'] !== undefined) {\n",
       "            data = {\n",
       "                data: new Blob(msg['buffers'], { type: data['blob'] }),\n",
       "            };\n",
       "        }\n",
       "        // Pass the mpl event to the overridden (by mpl) onmessage function.\n",
       "        ws.onmessage(data);\n",
       "    });\n",
       "    return ws;\n",
       "};\n",
       "\n",
       "mpl.mpl_figure_comm = function (comm, msg) {\n",
       "    // This is the function which gets called when the mpl process\n",
       "    // starts-up an IPython Comm through the \"matplotlib\" channel.\n",
       "\n",
       "    var id = msg.content.data.id;\n",
       "    // Get hold of the div created by the display call when the Comm\n",
       "    // socket was opened in Python.\n",
       "    var element = document.getElementById(id);\n",
       "    var ws_proxy = comm_websocket_adapter(comm);\n",
       "\n",
       "    function ondownload(figure, _format) {\n",
       "        window.open(figure.canvas.toDataURL());\n",
       "    }\n",
       "\n",
       "    var fig = new mpl.figure(id, ws_proxy, ondownload, element);\n",
       "\n",
       "    // Call onopen now - mpl needs it, as it is assuming we've passed it a real\n",
       "    // web socket which is closed, not our websocket->open comm proxy.\n",
       "    ws_proxy.onopen();\n",
       "\n",
       "    fig.parent_element = element;\n",
       "    fig.cell_info = mpl.find_output_cell(\"<div id='\" + id + \"'></div>\");\n",
       "    if (!fig.cell_info) {\n",
       "        console.error('Failed to find cell for figure', id, fig);\n",
       "        return;\n",
       "    }\n",
       "    fig.cell_info[0].output_area.element.on(\n",
       "        'cleared',\n",
       "        { fig: fig },\n",
       "        fig._remove_fig_handler\n",
       "    );\n",
       "};\n",
       "\n",
       "mpl.figure.prototype.handle_close = function (fig, msg) {\n",
       "    var width = fig.canvas.width / fig.ratio;\n",
       "    fig.cell_info[0].output_area.element.off(\n",
       "        'cleared',\n",
       "        fig._remove_fig_handler\n",
       "    );\n",
       "    fig.resizeObserverInstance.unobserve(fig.canvas_div);\n",
       "\n",
       "    // Update the output cell to use the data from the current canvas.\n",
       "    fig.push_to_output();\n",
       "    var dataURL = fig.canvas.toDataURL();\n",
       "    // Re-enable the keyboard manager in IPython - without this line, in FF,\n",
       "    // the notebook keyboard shortcuts fail.\n",
       "    IPython.keyboard_manager.enable();\n",
       "    fig.parent_element.innerHTML =\n",
       "        '<img src=\"' + dataURL + '\" width=\"' + width + '\">';\n",
       "    fig.close_ws(fig, msg);\n",
       "};\n",
       "\n",
       "mpl.figure.prototype.close_ws = function (fig, msg) {\n",
       "    fig.send_message('closing', msg);\n",
       "    // fig.ws.close()\n",
       "};\n",
       "\n",
       "mpl.figure.prototype.push_to_output = function (_remove_interactive) {\n",
       "    // Turn the data on the canvas into data in the output cell.\n",
       "    var width = this.canvas.width / this.ratio;\n",
       "    var dataURL = this.canvas.toDataURL();\n",
       "    this.cell_info[1]['text/html'] =\n",
       "        '<img src=\"' + dataURL + '\" width=\"' + width + '\">';\n",
       "};\n",
       "\n",
       "mpl.figure.prototype.updated_canvas_event = function () {\n",
       "    // Tell IPython that the notebook contents must change.\n",
       "    IPython.notebook.set_dirty(true);\n",
       "    this.send_message('ack', {});\n",
       "    var fig = this;\n",
       "    // Wait a second, then push the new image to the DOM so\n",
       "    // that it is saved nicely (might be nice to debounce this).\n",
       "    setTimeout(function () {\n",
       "        fig.push_to_output();\n",
       "    }, 1000);\n",
       "};\n",
       "\n",
       "mpl.figure.prototype._init_toolbar = function () {\n",
       "    var fig = this;\n",
       "\n",
       "    var toolbar = document.createElement('div');\n",
       "    toolbar.classList = 'btn-toolbar';\n",
       "    this.root.appendChild(toolbar);\n",
       "\n",
       "    function on_click_closure(name) {\n",
       "        return function (_event) {\n",
       "            return fig.toolbar_button_onclick(name);\n",
       "        };\n",
       "    }\n",
       "\n",
       "    function on_mouseover_closure(tooltip) {\n",
       "        return function (event) {\n",
       "            if (!event.currentTarget.disabled) {\n",
       "                return fig.toolbar_button_onmouseover(tooltip);\n",
       "            }\n",
       "        };\n",
       "    }\n",
       "\n",
       "    fig.buttons = {};\n",
       "    var buttonGroup = document.createElement('div');\n",
       "    buttonGroup.classList = 'btn-group';\n",
       "    var button;\n",
       "    for (var toolbar_ind in mpl.toolbar_items) {\n",
       "        var name = mpl.toolbar_items[toolbar_ind][0];\n",
       "        var tooltip = mpl.toolbar_items[toolbar_ind][1];\n",
       "        var image = mpl.toolbar_items[toolbar_ind][2];\n",
       "        var method_name = mpl.toolbar_items[toolbar_ind][3];\n",
       "\n",
       "        if (!name) {\n",
       "            /* Instead of a spacer, we start a new button group. */\n",
       "            if (buttonGroup.hasChildNodes()) {\n",
       "                toolbar.appendChild(buttonGroup);\n",
       "            }\n",
       "            buttonGroup = document.createElement('div');\n",
       "            buttonGroup.classList = 'btn-group';\n",
       "            continue;\n",
       "        }\n",
       "\n",
       "        button = fig.buttons[name] = document.createElement('button');\n",
       "        button.classList = 'btn btn-default';\n",
       "        button.href = '#';\n",
       "        button.title = name;\n",
       "        button.innerHTML = '<i class=\"fa ' + image + ' fa-lg\"></i>';\n",
       "        button.addEventListener('click', on_click_closure(method_name));\n",
       "        button.addEventListener('mouseover', on_mouseover_closure(tooltip));\n",
       "        buttonGroup.appendChild(button);\n",
       "    }\n",
       "\n",
       "    if (buttonGroup.hasChildNodes()) {\n",
       "        toolbar.appendChild(buttonGroup);\n",
       "    }\n",
       "\n",
       "    // Add the status bar.\n",
       "    var status_bar = document.createElement('span');\n",
       "    status_bar.classList = 'mpl-message pull-right';\n",
       "    toolbar.appendChild(status_bar);\n",
       "    this.message = status_bar;\n",
       "\n",
       "    // Add the close button to the window.\n",
       "    var buttongrp = document.createElement('div');\n",
       "    buttongrp.classList = 'btn-group inline pull-right';\n",
       "    button = document.createElement('button');\n",
       "    button.classList = 'btn btn-mini btn-primary';\n",
       "    button.href = '#';\n",
       "    button.title = 'Stop Interaction';\n",
       "    button.innerHTML = '<i class=\"fa fa-power-off icon-remove icon-large\"></i>';\n",
       "    button.addEventListener('click', function (_evt) {\n",
       "        fig.handle_close(fig, {});\n",
       "    });\n",
       "    button.addEventListener(\n",
       "        'mouseover',\n",
       "        on_mouseover_closure('Stop Interaction')\n",
       "    );\n",
       "    buttongrp.appendChild(button);\n",
       "    var titlebar = this.root.querySelector('.ui-dialog-titlebar');\n",
       "    titlebar.insertBefore(buttongrp, titlebar.firstChild);\n",
       "};\n",
       "\n",
       "mpl.figure.prototype._remove_fig_handler = function (event) {\n",
       "    var fig = event.data.fig;\n",
       "    if (event.target !== this) {\n",
       "        // Ignore bubbled events from children.\n",
       "        return;\n",
       "    }\n",
       "    fig.close_ws(fig, {});\n",
       "};\n",
       "\n",
       "mpl.figure.prototype._root_extra_style = function (el) {\n",
       "    el.style.boxSizing = 'content-box'; // override notebook setting of border-box.\n",
       "};\n",
       "\n",
       "mpl.figure.prototype._canvas_extra_style = function (el) {\n",
       "    // this is important to make the div 'focusable\n",
       "    el.setAttribute('tabindex', 0);\n",
       "    // reach out to IPython and tell the keyboard manager to turn it's self\n",
       "    // off when our div gets focus\n",
       "\n",
       "    // location in version 3\n",
       "    if (IPython.notebook.keyboard_manager) {\n",
       "        IPython.notebook.keyboard_manager.register_events(el);\n",
       "    } else {\n",
       "        // location in version 2\n",
       "        IPython.keyboard_manager.register_events(el);\n",
       "    }\n",
       "};\n",
       "\n",
       "mpl.figure.prototype._key_event_extra = function (event, _name) {\n",
       "    var manager = IPython.notebook.keyboard_manager;\n",
       "    if (!manager) {\n",
       "        manager = IPython.keyboard_manager;\n",
       "    }\n",
       "\n",
       "    // Check for shift+enter\n",
       "    if (event.shiftKey && event.which === 13) {\n",
       "        this.canvas_div.blur();\n",
       "        // select the cell after this one\n",
       "        var index = IPython.notebook.find_cell_index(this.cell_info[0]);\n",
       "        IPython.notebook.select(index + 1);\n",
       "    }\n",
       "};\n",
       "\n",
       "mpl.figure.prototype.handle_save = function (fig, _msg) {\n",
       "    fig.ondownload(fig, null);\n",
       "};\n",
       "\n",
       "mpl.find_output_cell = function (html_output) {\n",
       "    // Return the cell and output element which can be found *uniquely* in the notebook.\n",
       "    // Note - this is a bit hacky, but it is done because the \"notebook_saving.Notebook\"\n",
       "    // IPython event is triggered only after the cells have been serialised, which for\n",
       "    // our purposes (turning an active figure into a static one), is too late.\n",
       "    var cells = IPython.notebook.get_cells();\n",
       "    var ncells = cells.length;\n",
       "    for (var i = 0; i < ncells; i++) {\n",
       "        var cell = cells[i];\n",
       "        if (cell.cell_type === 'code') {\n",
       "            for (var j = 0; j < cell.output_area.outputs.length; j++) {\n",
       "                var data = cell.output_area.outputs[j];\n",
       "                if (data.data) {\n",
       "                    // IPython >= 3 moved mimebundle to data attribute of output\n",
       "                    data = data.data;\n",
       "                }\n",
       "                if (data['text/html'] === html_output) {\n",
       "                    return [cell, data, j];\n",
       "                }\n",
       "            }\n",
       "        }\n",
       "    }\n",
       "};\n",
       "\n",
       "// Register the function which deals with the matplotlib target/channel.\n",
       "// The kernel may be null if the page has been refreshed.\n",
       "if (IPython.notebook.kernel !== null) {\n",
       "    IPython.notebook.kernel.comm_manager.register_target(\n",
       "        'matplotlib',\n",
       "        mpl.mpl_figure_comm\n",
       "    );\n",
       "}\n"
      ],
      "text/plain": [
       "<IPython.core.display.Javascript object>"
      ]
     },
     "metadata": {},
     "output_type": "display_data"
    },
    {
     "data": {
      "text/html": [
       "<img src=\"data:image/png;base64,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\" width=\"1400\">"
      ],
      "text/plain": [
       "<IPython.core.display.HTML object>"
      ]
     },
     "metadata": {},
     "output_type": "display_data"
    }
   ],
   "source": [
    "from matplotlib.animation import FuncAnimation\n",
    "\n",
    "\n",
    "fig = plt.figure(figsize=(14,7))\n",
    "ax1 = plt.subplot(121)\n",
    "ax2 = plt.subplot(222)\n",
    "ax3 = plt.subplot(224)\n",
    "pi_ani = PiAnimation(ax1, ax2, ax3)\n",
    "anim = FuncAnimation(fig, pi_ani, frames=10_000, interval=0.01, blit=True)\n",
    "plt.show()"
   ]
  },
  {
   "cell_type": "code",
   "execution_count": null,
   "metadata": {},
   "outputs": [],
   "source": []
  }
 ],
 "metadata": {
  "kernelspec": {
   "display_name": "Python 3 (ipykernel)",
   "language": "python",
   "name": "python3"
  },
  "language_info": {
   "codemirror_mode": {
    "name": "ipython",
    "version": 3
   },
   "file_extension": ".py",
   "mimetype": "text/x-python",
   "name": "python",
   "nbconvert_exporter": "python",
   "pygments_lexer": "ipython3",
   "version": "3.8.11"
  }
 },
 "nbformat": 4,
 "nbformat_minor": 4
}
